{
 "cells": [
  {
   "cell_type": "code",
   "execution_count": 1,
   "metadata": {},
   "outputs": [
    {
     "name": "stdout",
     "output_type": "stream",
     "text": [
      "0.8477683067321777\n"
     ]
    },
    {
     "name": "stderr",
     "output_type": "stream",
     "text": [
      "C:\\Users\\douglasm\\AppData\\Local\\Continuum\\anaconda3\\lib\\site-packages\\pandas\\core\\indexing.py:494: SettingWithCopyWarning: \n",
      "A value is trying to be set on a copy of a slice from a DataFrame.\n",
      "Try using .loc[row_indexer,col_indexer] = value instead\n",
      "\n",
      "See the caveats in the documentation: http://pandas.pydata.org/pandas-docs/stable/user_guide/indexing.html#returning-a-view-versus-a-copy\n",
      "  self.obj[item] = s\n"
     ]
    }
   ],
   "source": [
    "import xml.etree.ElementTree as ET\n",
    "import numpy as np\n",
    "import pandas as pd\n",
    "import datetime as dt\n",
    "import time\n",
    "\n",
    "start = time.time()\n",
    "\n",
    "# surgeries\n",
    "surgId = []\n",
    "description = []\n",
    "duration = []\n",
    "surgType = []\n",
    "\n",
    "# surgeries needs\n",
    "taskIds = []\n",
    "surgNeedsId = []\n",
    "skillNeeded = []\n",
    "quantityNeeded = []\n",
    "sortOrder = []\n",
    "resDuration = []\n",
    "\n",
    "# variables\n",
    "roomCleaning = 15\n",
    "roomPreparation = 15\n",
    "kitCleaning = 240\n",
    "bedStay = 720\n",
    "\n",
    "\n",
    "treeSurg = ET.parse('surgeries_20190503.xml')\n",
    "rootSurg = treeSurg.getroot()\n",
    "\n",
    "taskId = 1\n",
    "for elem in rootSurg.findall('order_line'):\n",
    "\n",
    "    # Criacao da cirurgia com seus dados\n",
    "    surgId = np.append(surgId, [elem.find('id').text])\n",
    "    description = np.append(description, [elem.find('description').text])\n",
    "    duration = np.append(duration, [int(elem.find('quantity').text)])\n",
    "    surgType = np.append(surgType, [elem.find('orderlinekind').text])\n",
    "\n",
    "\n",
    "    # Criacao das necessidades da cirurgia\n",
    "    elemSurgId = elem.find('id').text\n",
    "    surgDuration = int(elem.find('quantity').text)\n",
    "    \n",
    "    # ROOM\n",
    "    if elem.find('required_room/roomid') != None:\n",
    "        skillNeeded = np.append(skillNeeded, [elem.find('required_room/roomid').text])\n",
    "    else:\n",
    "        skillNeeded = np.append(skillNeeded, 'ROOM')\n",
    "    surgNeedsId = np.append(surgNeedsId, elemSurgId)\n",
    "    taskIds = np.append(taskIds, taskId)\n",
    "    quantityNeeded = np.append(quantityNeeded, '1')\n",
    "    sortOrder = np.append(sortOrder, '100')\n",
    "    resDuration = np.append(resDuration, roomPreparation + surgDuration + roomCleaning)\n",
    "    taskId += 1\n",
    "    # KITS CME\n",
    "    for elemKit in elem.findall('required_kits/required_kit'):\n",
    "        taskIds = np.append(taskIds, taskId)\n",
    "        surgNeedsId = np.append(surgNeedsId, elemSurgId)\n",
    "        skillNeeded = np.append(skillNeeded, [elemKit.find('kitid').text])\n",
    "        quantityNeeded = np.append(quantityNeeded, [elemKit.find('amount').text])\n",
    "        sortOrder = np.append(sortOrder, [elemKit.find('sortorder').text])\n",
    "        resDuration = np.append(resDuration, surgDuration + kitCleaning)\n",
    "        taskId += 1\n",
    "\n",
    "    # EQUIPAMENTOS\n",
    "    for elemEquip in elem.findall('required_equipments/required_equipment'):\n",
    "        taskIds = np.append(taskIds, taskId)\n",
    "        surgNeedsId = np.append(surgNeedsId, elemSurgId)\n",
    "        skillNeeded = np.append(skillNeeded, [elemEquip.find('equipmentid').text])\n",
    "        quantityNeeded = np.append(quantityNeeded, [elemEquip.find('amount').text])\n",
    "        sortOrder = np.append(sortOrder, [elemEquip.find('sortorder').text])\n",
    "        resDuration = np.append(resDuration, surgDuration)\n",
    "        taskId += 1\n",
    "    \n",
    "    # LEITO\n",
    "    for elemLeito in elem.findall('required_bed'):\n",
    "        taskIds = np.append(taskIds, taskId)\n",
    "        surgNeedsId = np.append(surgNeedsId, elemSurgId)\n",
    "        skillNeeded = np.append(skillNeeded, [elemLeito.find('bedid').text])\n",
    "        quantityNeeded = np.append(quantityNeeded, [elemLeito.find('amount').text])\n",
    "        sortOrder = np.append(sortOrder, [elemLeito.find('sortorder').text])\n",
    "        resDuration = np.append(resDuration, bedStay)\n",
    "        taskId += 1\n",
    "\n",
    "    # EQUIPES\n",
    "    for elemTeam in elem.findall('required_teams/required_team'):\n",
    "        taskIds = np.append(taskIds, taskId)\n",
    "        surgNeedsId = np.append(surgNeedsId, elemSurgId)\n",
    "        skillNeeded = np.append(skillNeeded, [elemTeam.find('teamid').text])\n",
    "        quantityNeeded = np.append(quantityNeeded, '1')\n",
    "        timeDuration = elemTeam.find('duration').text\n",
    "        minutesDuration = int(timeDuration[:2])*60 + int(timeDuration[3:5])\n",
    "        resDuration = np.append(resDuration, minutesDuration)\n",
    "        sortOrder = np.append(sortOrder, [elemTeam.find('sortorder').text])\n",
    "        taskId += 1\n",
    "    \n",
    "\n",
    "\n",
    "\n",
    "data = {'id': surgId,\n",
    "        'nome': description,\n",
    "        'duration': duration,\n",
    "        'type': surgType\n",
    "        }\n",
    "\n",
    "data1 = {'taskId': taskIds,\n",
    "         'surgId': surgNeedsId,\n",
    "         'need': skillNeeded,\n",
    "         'quantity': quantityNeeded,\n",
    "         'sortOrder': sortOrder,\n",
    "         'duration': resDuration\n",
    "        }\n",
    "    \n",
    "surg = pd.DataFrame(data)\n",
    "surg['planned'] = False\n",
    "surg.sort_values(by = ['duration'], ascending=False, inplace=True)\n",
    "surg.reset_index(inplace=True)\n",
    "surgeries = surg.copy()\n",
    "surgNeeds = pd.DataFrame(data1)\n",
    "surgNeeds = surgNeeds.sort_values(by=['surgId', 'sortOrder'])\n",
    "surgNeeds['planned'] = False\n",
    "\n",
    "\n",
    "####################################################################\n",
    "# task relation\n",
    "taskId_1 = []\n",
    "taskId_2 = []\n",
    "duration_wait = []\n",
    "relationType = []\n",
    "\n",
    "for i in pd.Series(surgNeeds.surgId).unique():\n",
    "    for row in surgNeeds[surgNeeds.surgId == i].itertuples():\n",
    "        if row.sortOrder[:1] == '1':\n",
    "            taskIdRoom = row.taskId\n",
    "        elif row.sortOrder[:1] == '2':\n",
    "            taskId_1 = np.append(taskId_1, taskIdRoom)\n",
    "            taskId_2 = np.append(taskId_2, row.taskId)\n",
    "            duration_wait = np.append(duration_wait, roomPreparation)\n",
    "            relationType = np.append(relationType, 'SS')\n",
    "        elif row.sortOrder[:1] == '3':\n",
    "            taskId_1 = np.append(taskId_1, taskIdRoom)\n",
    "            taskId_2 = np.append(taskId_2, row.taskId)\n",
    "            duration_wait = np.append(duration_wait, roomPreparation)\n",
    "            relationType = np.append(relationType, 'SS')\n",
    "        elif row.sortOrder[:1] == '4':\n",
    "            if surg[surg.id == row.surgId].type.values[0] == 'SERIE' or surg[surg.id == row.surgId].type.values[0] == 'NORMAL':\n",
    "                if row.sortOrder[1:3] == '00':\n",
    "                    taskId_1 = np.append(taskId_1, taskIdRoom)\n",
    "                    taskId_2 = np.append(taskId_2, row.taskId)\n",
    "                    duration_wait = np.append(duration_wait, roomPreparation)\n",
    "                    relationType = np.append(relationType, 'SS')\n",
    "\n",
    "                    lastTaskId = row.taskId\n",
    "                else:\n",
    "                    taskId_1 = np.append(taskId_1, lastTaskId)\n",
    "                    taskId_2 = np.append(taskId_2, row.taskId)\n",
    "                    duration_wait = np.append(duration_wait, 0)\n",
    "                    relationType = np.append(relationType, 'SE')\n",
    "\n",
    "                    lastTaskId = row.taskId\n",
    "            elif surg[surg.id == row.surgId].type.values[0] == 'PARALELO':\n",
    "                taskId_1 = np.append(taskId_1, taskIdRoom)\n",
    "                taskId_2 = np.append(taskId_2, row.taskId)\n",
    "                duration_wait = np.append(duration_wait, roomPreparation)\n",
    "                relationType = np.append(relationType, 'SS')\n",
    "\n",
    "                allSurgs = surgNeeds[(surgNeeds.sortOrder.str.match('4')) & (surgNeeds.surgId == row.surgId)]\n",
    "                biggerSurg = allSurgs[allSurgs.duration == allSurgs.duration.max()]\n",
    "                biggerSurg.reset_index(inplace = True)\n",
    "                lastTaskId = biggerSurg['taskId'][0]\n",
    "        elif row.sortOrder[:1] == '5':\n",
    "            taskId_1 = np.append(taskId_1, lastTaskId)\n",
    "            taskId_2 = np.append(taskId_2, row.taskId)\n",
    "            duration_wait = np.append(duration_wait, 0)\n",
    "            relationType = np.append(relationType, 'SE')\n",
    "        \n",
    "taskRelDic =   {'taskId_01': taskId_1,\n",
    "                'taskId_02': taskId_2,\n",
    "                'durationWait': duration_wait,\n",
    "                'relationType': relationType\n",
    "                }\n",
    "taskRelation = pd.DataFrame(taskRelDic)\n",
    "\n",
    "\n",
    "####################################################################\n",
    "\n",
    "# resources\n",
    "resourceId = []\n",
    "resDescription = []\n",
    "resSkillGroup = []\n",
    "resSkill = []\n",
    "\n",
    "resourceIdAvail = []\n",
    "resourceIdEntryAvail = []\n",
    "resourceSkillAvail = []\n",
    "resourceSkillGroupAvail = []\n",
    "fromDate = []\n",
    "tillDate = []\n",
    "\n",
    "\n",
    "treeResource = ET.parse('resources_20190503.xml')\n",
    "rootResource = treeResource.getroot()\n",
    "\n",
    "\n",
    "for elem in rootResource.findall('resource'):\n",
    "    elemResId = elem.find('id').text\n",
    "    elemResDescrip = elem.find('description').text\n",
    "    elemSkillConcat = ''\n",
    "    for elemSkill in elem.findall('provide_properties/provide_property'):\n",
    "        resourceId = np.append(resourceId, elemResId)\n",
    "        resDescription = np.append(resDescription, elemResDescrip)\n",
    "        resSkillGroup = np.append(resSkillGroup, [elemSkill.find('property_typeid').text])\n",
    "        resSkill = np.append(resSkill, [elemSkill.find('value/id').text])\n",
    "        elemSkillConcat = elemSkillConcat + elemSkill.find('value/id').text + ';'\n",
    "        elemSkillGroup = elemSkill.find('property_typeid').text\n",
    "    if elem.find('availabilities/availability/amount') != None:\n",
    "        resAmount = int(elem.find('availabilities/availability/amount').text)\n",
    "        while resAmount > 0:\n",
    "            for elemAvail in elem.findall('availabilities/availability'):\n",
    "                resourceIdAvail = np.append(resourceIdAvail, elemResId)\n",
    "                resourceIdEntryAvail = np.append(resourceIdEntryAvail, elemResId + '_' + str(resAmount))\n",
    "                resourceSkillAvail = np.append(resourceSkillAvail, elemSkillConcat)\n",
    "                resourceSkillGroupAvail = np.append(resourceSkillGroupAvail, elemSkillGroup)\n",
    "                if elemAvail.find('fromdate') != None:\n",
    "                    fromDate = np.append(fromDate, pd.to_datetime(elemAvail.find('fromdate').text))\n",
    "                else:\n",
    "                    fromDate = np.append(fromDate, pd.to_datetime(dt.date.today()) + dt.timedelta(days=2))\n",
    "\n",
    "                if elemAvail.find('tilldate') != None:\n",
    "                    tillDate = np.append(tillDate, pd.to_datetime(elemAvail.find('tilldate').text))\n",
    "                else:\n",
    "                    tillDate = np.append(tillDate, pd.to_datetime(elemAvail.find('fromdate').text) + dt.timedelta(days=2))   \n",
    "            resAmount -= 1\n",
    "\n",
    "    \n",
    "\n",
    "data2 = {'id': resourceId,\n",
    "         'name': resDescription,\n",
    "         'skillGroup': resSkillGroup,\n",
    "         'skill': resSkill\n",
    "         }\n",
    "\n",
    "res = pd.DataFrame(data2)\n",
    "\n",
    "data5 = {   'resourceId': resourceIdAvail,\n",
    "            'resourceIdEntry': resourceIdEntryAvail,\n",
    "            'fromDate': fromDate,\n",
    "            'tillDate': tillDate,\n",
    "            'skill': resourceSkillAvail,\n",
    "            'skillGroup': resourceSkillGroupAvail\n",
    "             }\n",
    "\n",
    "resAvail = pd.DataFrame(data5)\n",
    "\n",
    "resourcePlanning = pd.DataFrame(columns=['resourceIdEntry', 'fromDate', 'tillDate', 'surgId', 'taskId', 'resourceId'])\n",
    "\n",
    "end = time.time()\n",
    "\n",
    "print(end - start)\n",
    "# seleção de todas as salas que possuem alguma disponibilidade\n",
    "availaR = resAvail.loc[(resAvail['skillGroup'] == 'ROOMS') & (resAvail['fromDate'] < resAvail['tillDate'])] \n",
    "# seleção do recurso com disponibilidade primeiro:\n",
    "availaR_min = availaR.sort_values(by=['fromDate'])\n",
    "# pegar a primeira sala da lista anterior, em caso de ter mais de uma.\n",
    "idx_ROOM = 0\n",
    "i_ROOM = availaR_min.iloc[idx_ROOM]\n",
    "t = i_ROOM['fromDate']\n",
    "\n",
    "\n",
    "hasRoom = True\n",
    "\n",
    "\n",
    "while (surg.shape[0] > 0) and (hasRoom == True):\n",
    "    ## Copia do vetor de cirurgias para manipulacao no proximo while\n",
    "   \n",
    "    surg_t = surg.copy()\n",
    "    nextTimeResAvail = pd.DataFrame(columns=['surgId', 'fromDate', 'duration'])\n",
    "    surgPlanned_t = False\n",
    "    \n",
    "\n",
    "    while (surg_t.shape[0] > 0) and (surgPlanned_t == False):\n",
    "        ## Selecionar primeira cirurgia da fila de prioridade:\n",
    "        surg_it = surg_t.iloc[0]\n",
    "        surg_it_id = surg_it.loc['id']\n",
    "        ## Verificar se todos os recursos da cirurgia atual possuem disponibilidade\n",
    "        surgNeeds_it = surgNeeds.loc[surgNeeds['surgId'] == surg_it_id]\n",
    "        blockFound = False\n",
    "        resAvail_it = resAvail.copy()\n",
    "        resourcePlanning_it = resourcePlanning.copy()\n",
    "        for row in surgNeeds_it.itertuples():\n",
    "##            print(row.need)\n",
    "##            print(surgNeeds_it)\n",
    "            if blockFound == False:\n",
    "##                print('not blocked')\n",
    "                if row.need[:4] == 'ROOM':\n",
    "                    if row.need in i_ROOM.skill:\n",
    "                        if (t + dt.timedelta(minutes=row.duration)) >= i_ROOM.tillDate:\n",
    "                            blockFound = True\n",
    "                        else:\n",
    "                            surgNeeds_it.loc[surgNeeds_it.taskId == row.taskId, 'planned'] = True\n",
    "                            resAvail_it.loc[resAvail_it.resourceIdEntry == i_ROOM.resourceIdEntry, 'fromDate'] = (t + dt.timedelta(minutes=row.duration))     \n",
    "                            resourcePlanning_it = resourcePlanning_it.append({'resourceIdEntry': i_ROOM.resourceIdEntry, 'fromDate': t, 'tillDate': (t + dt.timedelta(minutes=row.duration)), 'surgId': row.surgId, 'taskId': row.taskId, 'resourceId': i_ROOM.resourceId}, ignore_index=True)\n",
    "                            resourcePlanning_it.sort_index(inplace=True)\n",
    "                    else:\n",
    "                        blockFound = True\n",
    "##                        print('blocked on room')\n",
    "                        \n",
    "                else:\n",
    "                    taskRelation_it = taskRelation[row.taskId == taskRelation.taskId_02]\n",
    "                    if taskRelation_it.relationType.values[0] == 'SS':\n",
    "                        startTask = pd.to_datetime(resourcePlanning_it.loc[resourcePlanning_it.taskId == taskRelation_it.taskId_01.values[0], 'fromDate'].values[0]) + dt.timedelta(minutes=taskRelation_it.durationWait.values[0])\n",
    "                        finishTask = startTask + dt.timedelta(minutes=row.duration)\n",
    "                    elif taskRelation_it.relationType.values[0] == 'SE':\n",
    "                        startTask = pd.to_datetime(resourcePlanning_it.loc[resourcePlanning_it.taskId == taskRelation_it.taskId_01.values[0], 'tillDate'].values[0]) + dt.timedelta(minutes=taskRelation_it.durationWait.values[0])\n",
    "                        finishTask = startTask + dt.timedelta(minutes=row.duration)\n",
    "\n",
    "                    resFound = resAvail_it[(resAvail_it.skill.str.contains(row.need)) & (startTask >= resAvail_it.fromDate) & (finishTask <= resAvail_it.tillDate)]\n",
    "                    if resFound.shape[0] >= 1:\n",
    "                        resource = resFound.iloc[0]\n",
    "                        surgNeeds_it.loc[surgNeeds_it.taskId == row.taskId, 'planned'] = True  \n",
    "                        resourcePlanning_it = resourcePlanning_it.append({'resourceIdEntry': resource.resourceIdEntry, 'fromDate': startTask, 'tillDate': finishTask, 'surgId': row.surgId, 'taskId': row.taskId, 'resourceId': resource.resourceId}, ignore_index=True)\n",
    "                    \n",
    "                        if startTask == resource.fromDate:\n",
    "                            resAvail_it.loc[(resAvail_it.resourceIdEntry == resource.resourceIdEntry) & (resAvail_it.fromDate == resource.fromDate), 'fromDate'] = finishTask\n",
    "                        else:\n",
    "                            resAvail_it.loc[(resAvail_it.resourceIdEntry == resource.resourceIdEntry) & (resAvail_it.tillDate == resource.tillDate), 'tillDate'] = startTask\n",
    "                            resAvail_it = resAvail_it.append({'resourceId': resource.resourceId, 'resourceIdEntry': resource.resourceIdEntry, 'fromDate': finishTask, 'tillDate': resource.tillDate, 'skill': resource.skill, 'skillGroup': resource.skillGroup}, ignore_index=True)\n",
    "                        \n",
    "                    else:\n",
    "                        blockFound = True\n",
    "##                        print('blocked on resource')\n",
    "                        resNextDate = resAvail_it[(resAvail_it.skill.str.contains(row.need)) & (startTask < resAvail_it.fromDate)]\n",
    "                        if resNextDate.shape[0] >=1:\n",
    "                            firstResAvail = resNextDate[resNextDate.fromDate == resNextDate.fromDate.min()].iloc[0]\n",
    "                            nextTime = pd.to_datetime(firstResAvail.fromDate) - dt.timedelta(minutes=taskRelation_it.durationWait.values[0])\n",
    "                            nextTimeResAvail = nextTimeResAvail.append({'fromDate': nextTime, 'surgId': surg_it_id, 'duration': surg_it.duration}, ignore_index=True)\n",
    "                        else:\n",
    "                            surg = surg[surg.id != surg_it_id]\n",
    "                        \n",
    "\n",
    "        if blockFound == False:\n",
    "##            print(surg)\n",
    "            resAvail = resAvail_it\n",
    "            resourcePlanning = resourcePlanning_it\n",
    "            surgeries.loc[surgeries.id == surg_it_id, 'planned'] = True\n",
    "            surg = surg[surg.id != surg_it_id]\n",
    "            surgPlanned_t = True\n",
    "            # seleção de todas as salas que possuem alguma disponibilidade\n",
    "            availaR = resAvail.loc[(resAvail['skillGroup'] == 'ROOMS') & (resAvail['fromDate'] < resAvail['tillDate']) & (resAvail['fromDate'] >= t)] \n",
    "            # seleção do recurso com disponibilidade primeiro:\n",
    "            availaR_min = availaR.sort_values(by=['fromDate'])\n",
    "            # pegar a primeira sala da lista anterior, em caso de ter mais de uma.\n",
    "            idx_ROOM = 0\n",
    "            i_ROOM = availaR_min.iloc[idx_ROOM]\n",
    "            t = i_ROOM['fromDate']\n",
    " \n",
    "        else:\n",
    "            surg_t = surg_t[surg_t.id != surg_it_id]\n",
    "            if surg_t.shape[0] == 0 and surg.shape[0] != 0:\n",
    "                if nextTimeResAvail.shape[0] != 0:\n",
    "                    nextTimeResAvail = nextTimeResAvail.sort_values(by = ['fromDate', 'duration'], ascending=[True, False])\n",
    "                    t = nextTimeResAvail.iloc[0,1]\n",
    "                    #t += dt.timedelta(minutes=1)\n",
    "                else:\n",
    "                    resAvail.loc[resAvail.resourceIdEntry == i_ROOM.resourceIdEntry, 'fromDate'] = resAvail.tillDate\n",
    "                    # seleção de todas as salas que possuem alguma disponibilidade\n",
    "                    availaR = resAvail.loc[(resAvail['skillGroup'] == 'ROOMS') & (resAvail['fromDate'] < resAvail['tillDate'])]\n",
    "                    if availaR.shape[0] == 0:\n",
    "                        hasRoom = False\n",
    "                    else:\n",
    "                        # seleção do recurso com disponibilidade primeiro:\n",
    "                        availaR_min = availaR.sort_values(by=['fromDate'])\n",
    "                        # pegar a primeira sala da lista anterior, em caso de ter mais de uma.\n",
    "                        idx_ROOM = 0\n",
    "                        i_ROOM = availaR_min.iloc[idx_ROOM]\n",
    "                        t = i_ROOM['fromDate']\n",
    "\n",
    "##import plotly\n",
    "##plotly.tools.set_credentials_file(username='dougmart', api_key='z3YRoxBeo8Lj1i1s8Ylo')\n",
    "##import plotly.plotly as py\n",
    "##import plotly.figure_factory as ff\n",
    "##\n",
    "##\n",
    "##\n",
    "##\n",
    "##\n",
    "##\n",
    "##df = []\n",
    "##for row in resourcePlanning.itertuples():\n",
    "##    if row.resourceId[:4] == 'ROOM':\n",
    "##        df.append(dict(Task = row.resourceIdEntry, Start=row.fromDate, Finish=row.tillDate))\n",
    "##\n",
    "##\n",
    "##\n",
    "##fig = ff.create_gantt(df, group_tasks=True)\n",
    "##py.iplot(fig, filename='gantt-hours', world_readable=True)\n",
    "\n",
    "\n",
    "# create the file structure\n",
    "\n",
    "data = ET.Element('planwise')\n",
    "data.set('updatemode', 'full')\n",
    "data.set('timestamp', dt.datetime.now().strftime('%Y-%m-%dT%X'))\n",
    "items = ET.SubElement(data, 'cirurgias')\n",
    "\n",
    "\n",
    "for rowSurg in surgeries[surgeries.planned == True].itertuples():\n",
    "    item = ET.SubElement(items, 'cirurgia')\n",
    "    itemSurgId = ET.SubElement(item, 'id')\n",
    "    itemSurgId.text = rowSurg.id\n",
    "    itemRoomId = ET.SubElement(item, 'sala_id')\n",
    "    itemRoomId.text = resourcePlanning.loc[(resourcePlanning.surgId == rowSurg.id) & (resourcePlanning.resourceId.str.match('ROOM')), 'resourceId'].values[0]\n",
    "    itemStart = ET.SubElement(item, 'inicio')\n",
    "    startSurg = resourcePlanning.loc[(resourcePlanning.surgId == rowSurg.id) & (resourcePlanning.resourceId.str.match('ROOM')), 'fromDate'].values[0]\n",
    "    itemStart.text = pd.to_datetime(startSurg).strftime('%Y-%m-%dT%X')\n",
    "    itemFinish = ET.SubElement(item, 'fim')\n",
    "    finishSurg = resourcePlanning.loc[(resourcePlanning.surgId == rowSurg.id) & (resourcePlanning.resourceId.str.match('ROOM')), 'tillDate'].values[0]\n",
    "    itemFinish.text = pd.to_datetime(finishSurg).strftime('%Y-%m-%dT%X')\n",
    "    itemBedId = ET.SubElement(item, 'leito_id')\n",
    "    itemBedId.text = resourcePlanning.loc[(resourcePlanning.surgId == rowSurg.id) & (resourcePlanning.resourceId.str.match('BED')), 'resourceId'].values[0]\n",
    "    \n",
    "    nofTeams = resourcePlanning[(resourcePlanning.surgId == rowSurg.id) & (resourcePlanning.resourceId.str.match('TEAM'))].shape[0]\n",
    "    teamStr = ''\n",
    "    for rowTeam in resourcePlanning[(resourcePlanning.surgId == rowSurg.id) & (resourcePlanning.resourceId.str.match('TEAM'))].itertuples():\n",
    "        teamStr = teamStr + rowTeam.resourceId\n",
    "        nofTeams -= 1\n",
    "        if nofTeams > 0:\n",
    "            teamStr = teamStr + ','\n",
    "    itemTeamId = ET.SubElement(item, 'team_id')\n",
    "    itemTeamId.text = teamStr\n",
    "\n",
    "    nofKits = resourcePlanning[(resourcePlanning.surgId == rowSurg.id) & (resourcePlanning.resourceId.str.match('KIT'))].shape[0]\n",
    "    kitsStr = ''\n",
    "    for rowKit in resourcePlanning[(resourcePlanning.surgId == rowSurg.id) & (resourcePlanning.resourceId.str.match('KIT'))].itertuples():\n",
    "        kitsStr = kitsStr + rowKit.resourceId\n",
    "        nofKits -= 1\n",
    "        if nofKits > 0:\n",
    "            kitsStr = kitsStr + ','\n",
    "    itemKitId = ET.SubElement(item, 'kit_id')\n",
    "    itemKitId.text = kitsStr\n",
    "\n",
    "    nofEquips = resourcePlanning[(resourcePlanning.surgId == rowSurg.id) & (resourcePlanning.resourceId.str.match('EQUIPMENT'))].shape[0]\n",
    "    equipsStr = ''\n",
    "    for rowEquip in resourcePlanning[(resourcePlanning.surgId == rowSurg.id) & (resourcePlanning.resourceId.str.match('EQUIPMENT'))].itertuples():\n",
    "        equipsStr = equipsStr + rowEquip.resourceId\n",
    "        nofEquips -= 1\n",
    "        if nofEquips > 0:\n",
    "            equipsStr = equipsStr + ','\n",
    "    itemEquipId = ET.SubElement(item, 'equipamento_id')\n",
    "    itemEquipId.text = equipsStr\n",
    "\n",
    "# create a new XML file with the results\n",
    "mydata = ET.tostring(data)  \n",
    "myfile = open(\"items2.xml\", \"wb\")  \n",
    "myfile.write(mydata)  \n",
    "myfile.close()\n",
    "\n",
    "\n",
    "\n",
    "\n",
    "\n",
    "##resAvail.loc[resAvail.skillGroup == 'ROOMS', ['fromDate', 'tillDate']]\n",
    "##resAvail.loc[resAvail.resourceId == 'TEAM_66', ['fromDate', 'tillDate']]\n"
   ]
  },
  {
   "cell_type": "code",
   "execution_count": 2,
   "metadata": {},
   "outputs": [],
   "source": [
    "\n",
    "import plotly\n",
    "import plotly.figure_factory as ff"
   ]
  },
  {
   "cell_type": "code",
   "execution_count": 5,
   "metadata": {},
   "outputs": [
    {
     "data": {
      "application/vnd.plotly.v1+json": {
       "config": {
        "plotlyServerURL": "https://plot.ly"
       },
       "data": [
        {
         "fill": "toself",
         "fillcolor": "rgb(127, 127, 127)",
         "hoverinfo": "name",
         "legendgroup": "rgb(127, 127, 127)",
         "mode": "none",
         "name": "ROOM_89_1",
         "type": "scatter",
         "x": [
          "2019-05-07T02:12:00",
          "2019-05-07T03:50:00",
          "2019-05-07T03:50:00",
          "2019-05-07T02:12:00",
          "2019-05-07T02:12:00",
          "2019-05-07T06:50:00",
          "2019-05-07T08:40:00",
          "2019-05-07T08:40:00",
          "2019-05-07T06:50:00",
          "2019-05-07T06:50:00",
          "2019-05-07T09:59:00",
          "2019-05-07T11:07:00",
          "2019-05-07T11:07:00",
          "2019-05-07T09:59:00",
          "2019-05-07T09:59:00",
          "2019-05-07T17:35:00",
          "2019-05-07T19:25:00",
          "2019-05-07T19:25:00",
          "2019-05-07T17:35:00"
         ],
         "y": [
          2.8,
          2.8,
          3.2,
          3.2,
          null,
          -0.2,
          -0.2,
          0.2,
          0.2,
          null,
          2.8,
          2.8,
          3.2,
          3.2,
          null,
          0.8,
          0.8,
          1.2,
          1.2
         ]
        },
        {
         "fill": "toself",
         "fillcolor": "rgb(140, 86, 75)",
         "hoverinfo": "name",
         "legendgroup": "rgb(140, 86, 75)",
         "mode": "none",
         "name": "ROOM_87_1",
         "type": "scatter",
         "x": [
          "2019-05-07T01:57:00",
          "2019-05-07T03:47:00",
          "2019-05-07T03:47:00",
          "2019-05-07T01:57:00",
          "2019-05-07T01:57:00",
          "2019-05-07T05:22:00",
          "2019-05-07T06:41:00",
          "2019-05-07T06:41:00",
          "2019-05-07T05:22:00",
          "2019-05-07T05:22:00",
          "2019-05-07T09:52:00",
          "2019-05-07T11:10:00",
          "2019-05-07T11:10:00",
          "2019-05-07T09:52:00",
          "2019-05-07T09:52:00",
          "2019-05-07T12:25:00",
          "2019-05-07T12:56:00",
          "2019-05-07T12:56:00",
          "2019-05-07T12:25:00"
         ],
         "y": [
          0.8,
          0.8,
          1.2,
          1.2,
          null,
          2.8,
          2.8,
          3.2,
          3.2,
          null,
          0.8,
          0.8,
          1.2,
          1.2,
          null,
          1.8,
          1.8,
          2.2,
          2.2
         ]
        },
        {
         "fill": "toself",
         "fillcolor": "rgb(148, 103, 189)",
         "hoverinfo": "name",
         "legendgroup": "rgb(148, 103, 189)",
         "mode": "none",
         "name": "ROOM_90_1",
         "type": "scatter",
         "x": [
          "2019-05-07T01:50:00",
          "2019-05-07T03:40:00",
          "2019-05-07T03:40:00",
          "2019-05-07T01:50:00",
          "2019-05-07T01:50:00",
          "2019-05-07T05:21:00",
          "2019-05-07T06:51:00",
          "2019-05-07T06:51:00",
          "2019-05-07T05:21:00",
          "2019-05-07T05:21:00",
          "2019-05-07T09:50:00",
          "2019-05-07T11:22:00",
          "2019-05-07T11:22:00",
          "2019-05-07T09:50:00",
          "2019-05-07T09:50:00",
          "2019-05-07T12:23:00",
          "2019-05-07T13:24:00",
          "2019-05-07T13:24:00",
          "2019-05-07T12:23:00"
         ],
         "y": [
          -0.2,
          -0.2,
          0.2,
          0.2,
          null,
          0.8,
          0.8,
          1.2,
          1.2,
          null,
          1.8,
          1.8,
          2.2,
          2.2,
          null,
          -0.2,
          -0.2,
          0.2,
          0.2
         ]
        },
        {
         "fill": "toself",
         "fillcolor": "rgb(188, 189, 34)",
         "hoverinfo": "name",
         "legendgroup": "rgb(188, 189, 34)",
         "mode": "none",
         "name": "ROOM_89_1",
         "type": "scatter",
         "x": [
          "2019-05-07T03:38:00",
          "2019-05-07T05:20:00",
          "2019-05-07T05:20:00",
          "2019-05-07T03:38:00",
          "2019-05-07T03:38:00",
          "2019-05-07T06:51:00",
          "2019-05-07T08:41:00",
          "2019-05-07T08:41:00",
          "2019-05-07T06:51:00",
          "2019-05-07T06:51:00",
          "2019-05-07T11:05:00",
          "2019-05-07T12:23:00",
          "2019-05-07T12:23:00",
          "2019-05-07T11:05:00",
          "2019-05-07T11:05:00",
          "2019-05-07T19:25:00",
          "2019-05-07T21:06:00",
          "2019-05-07T21:06:00",
          "2019-05-07T19:25:00"
         ],
         "y": [
          1.8,
          1.8,
          2.2,
          2.2,
          null,
          0.8,
          0.8,
          1.2,
          1.2,
          null,
          -0.2,
          -0.2,
          0.2,
          0.2,
          null,
          0.8,
          0.8,
          1.2,
          1.2
         ]
        },
        {
         "fill": "toself",
         "fillcolor": "rgb(214, 39, 40)",
         "hoverinfo": "name",
         "legendgroup": "rgb(214, 39, 40)",
         "mode": "none",
         "name": "ROOM_86_1",
         "type": "scatter",
         "x": [
          "2019-05-07T00:00:00",
          "2019-05-07T01:50:00",
          "2019-05-07T01:50:00",
          "2019-05-07T00:00:00",
          "2019-05-07T00:00:00",
          "2019-05-07T05:20:00",
          "2019-05-07T06:52:00",
          "2019-05-07T06:52:00",
          "2019-05-07T05:20:00",
          "2019-05-07T05:20:00",
          "2019-05-07T08:41:00",
          "2019-05-07T09:52:00",
          "2019-05-07T09:52:00",
          "2019-05-07T08:41:00",
          "2019-05-07T08:41:00",
          "2019-05-07T12:23:00",
          "2019-05-07T14:13:00",
          "2019-05-07T14:13:00",
          "2019-05-07T12:23:00"
         ],
         "y": [
          -0.2,
          -0.2,
          0.2,
          0.2,
          null,
          1.8,
          1.8,
          2.2,
          2.2,
          null,
          0.8,
          0.8,
          1.2,
          1.2,
          null,
          2.8,
          2.8,
          3.2,
          3.2
         ]
        },
        {
         "fill": "toself",
         "fillcolor": "rgb(227, 119, 194)",
         "hoverinfo": "name",
         "legendgroup": "rgb(227, 119, 194)",
         "mode": "none",
         "name": "ROOM_87_1",
         "type": "scatter",
         "x": [
          "2019-05-07T02:00:00",
          "2019-05-07T03:38:00",
          "2019-05-07T03:38:00",
          "2019-05-07T02:00:00",
          "2019-05-07T02:00:00",
          "2019-05-07T06:41:00",
          "2019-05-07T08:31:00",
          "2019-05-07T08:31:00",
          "2019-05-07T06:41:00",
          "2019-05-07T06:41:00",
          "2019-05-07T09:54:00",
          "2019-05-07T11:05:00",
          "2019-05-07T11:05:00",
          "2019-05-07T09:54:00",
          "2019-05-07T09:54:00",
          "2019-05-07T13:43:00",
          "2019-05-07T15:03:00",
          "2019-05-07T15:03:00",
          "2019-05-07T13:43:00"
         ],
         "y": [
          1.8,
          1.8,
          2.2,
          2.2,
          null,
          2.8,
          2.8,
          3.2,
          3.2,
          null,
          -0.2,
          -0.2,
          0.2,
          0.2,
          null,
          1.8,
          1.8,
          2.2,
          2.2
         ]
        },
        {
         "fill": "toself",
         "fillcolor": "rgb(23, 190, 207)",
         "hoverinfo": "name",
         "legendgroup": "rgb(23, 190, 207)",
         "mode": "none",
         "name": "ROOM_89_1",
         "type": "scatter",
         "x": [
          "2019-05-07T03:40:00",
          "2019-05-07T05:15:00",
          "2019-05-07T05:15:00",
          "2019-05-07T03:40:00",
          "2019-05-07T03:40:00",
          "2019-05-07T06:52:00",
          "2019-05-07T08:20:00",
          "2019-05-07T08:20:00",
          "2019-05-07T06:52:00",
          "2019-05-07T06:52:00",
          "2019-05-07T11:07:00",
          "2019-05-07T12:23:00",
          "2019-05-07T12:23:00",
          "2019-05-07T11:07:00",
          "2019-05-07T11:07:00",
          "2019-05-07T21:06:00",
          "2019-05-07T22:13:00",
          "2019-05-07T22:13:00",
          "2019-05-07T21:06:00"
         ],
         "y": [
          -0.2,
          -0.2,
          0.2,
          0.2,
          null,
          1.8,
          1.8,
          2.2,
          2.2,
          null,
          2.8,
          2.8,
          3.2,
          3.2,
          null,
          0.8,
          0.8,
          1.2,
          1.2
         ]
        },
        {
         "fill": "toself",
         "fillcolor": "rgb(255, 127, 14)",
         "hoverinfo": "name",
         "legendgroup": "rgb(255, 127, 14)",
         "mode": "none",
         "name": "ROOM_87_1",
         "type": "scatter",
         "x": [
          "2019-05-07T00:00:00",
          "2019-05-07T02:00:00",
          "2019-05-07T02:00:00",
          "2019-05-07T00:00:00",
          "2019-05-07T00:00:00",
          "2019-05-07T03:50:00",
          "2019-05-07T05:22:00",
          "2019-05-07T05:22:00",
          "2019-05-07T03:50:00",
          "2019-05-07T03:50:00",
          "2019-05-07T08:31:00",
          "2019-05-07T09:59:00",
          "2019-05-07T09:59:00",
          "2019-05-07T08:31:00",
          "2019-05-07T08:31:00",
          "2019-05-07T11:22:00",
          "2019-05-07T12:25:00",
          "2019-05-07T12:25:00",
          "2019-05-07T11:22:00"
         ],
         "y": [
          1.8,
          1.8,
          2.2,
          2.2,
          null,
          2.8,
          2.8,
          3.2,
          3.2,
          null,
          2.8,
          2.8,
          3.2,
          3.2,
          null,
          1.8,
          1.8,
          2.2,
          2.2
         ]
        },
        {
         "fill": "toself",
         "fillcolor": "rgb(31, 119, 180)",
         "hoverinfo": "name",
         "legendgroup": "rgb(31, 119, 180)",
         "mode": "none",
         "name": "ROOM_89_1",
         "type": "scatter",
         "x": [
          "2019-05-07T00:00:00",
          "2019-05-07T02:12:00",
          "2019-05-07T02:12:00",
          "2019-05-07T00:00:00",
          "2019-05-07T00:00:00",
          "2019-05-07T03:47:00",
          "2019-05-07T05:21:00",
          "2019-05-07T05:21:00",
          "2019-05-07T03:47:00",
          "2019-05-07T03:47:00",
          "2019-05-07T08:20:00",
          "2019-05-07T09:50:00",
          "2019-05-07T09:50:00",
          "2019-05-07T08:20:00",
          "2019-05-07T08:20:00",
          "2019-05-07T11:10:00",
          "2019-05-07T12:15:00",
          "2019-05-07T12:15:00",
          "2019-05-07T11:10:00",
          "2019-05-07T11:10:00",
          "2019-05-07T22:55:00",
          "2019-05-07T23:29:00",
          "2019-05-07T23:29:00",
          "2019-05-07T22:55:00"
         ],
         "y": [
          2.8,
          2.8,
          3.2,
          3.2,
          null,
          0.8,
          0.8,
          1.2,
          1.2,
          null,
          1.8,
          1.8,
          2.2,
          2.2,
          null,
          0.8,
          0.8,
          1.2,
          1.2,
          null,
          0.8,
          0.8,
          1.2,
          1.2
         ]
        },
        {
         "fill": "toself",
         "fillcolor": "rgb(44, 160, 44)",
         "hoverinfo": "name",
         "legendgroup": "rgb(44, 160, 44)",
         "mode": "none",
         "name": "ROOM_89_1",
         "type": "scatter",
         "x": [
          "2019-05-07T00:00:00",
          "2019-05-07T01:57:00",
          "2019-05-07T01:57:00",
          "2019-05-07T00:00:00",
          "2019-05-07T00:00:00",
          "2019-05-07T05:15:00",
          "2019-05-07T06:50:00",
          "2019-05-07T06:50:00",
          "2019-05-07T05:15:00",
          "2019-05-07T05:15:00",
          "2019-05-07T08:40:00",
          "2019-05-07T09:54:00",
          "2019-05-07T09:54:00",
          "2019-05-07T08:40:00",
          "2019-05-07T08:40:00",
          "2019-05-07T12:15:00",
          "2019-05-07T14:05:00",
          "2019-05-07T14:05:00",
          "2019-05-07T12:15:00"
         ],
         "y": [
          0.8,
          0.8,
          1.2,
          1.2,
          null,
          -0.2,
          -0.2,
          0.2,
          0.2,
          null,
          -0.2,
          -0.2,
          0.2,
          0.2,
          null,
          0.8,
          0.8,
          1.2,
          1.2
         ]
        },
        {
         "legendgroup": "rgb(127, 127, 127)",
         "marker": {
          "color": "rgb(127, 127, 127)",
          "opacity": 0,
          "size": 1
         },
         "mode": "markers",
         "name": "",
         "showlegend": false,
         "text": [
          null,
          null,
          null,
          null,
          null,
          null,
          null,
          null
         ],
         "type": "scatter",
         "x": [
          "2019-05-07T02:12:00",
          "2019-05-07T03:50:00",
          "2019-05-07T06:50:00",
          "2019-05-07T08:40:00",
          "2019-05-07T09:59:00",
          "2019-05-07T11:07:00",
          "2019-05-07T17:35:00",
          "2019-05-07T19:25:00"
         ],
         "y": [
          3,
          3,
          0,
          0,
          3,
          3,
          1,
          1
         ]
        },
        {
         "legendgroup": "rgb(140, 86, 75)",
         "marker": {
          "color": "rgb(140, 86, 75)",
          "opacity": 0,
          "size": 1
         },
         "mode": "markers",
         "name": "",
         "showlegend": false,
         "text": [
          null,
          null,
          null,
          null,
          null,
          null,
          null,
          null
         ],
         "type": "scatter",
         "x": [
          "2019-05-07T01:57:00",
          "2019-05-07T03:47:00",
          "2019-05-07T05:22:00",
          "2019-05-07T06:41:00",
          "2019-05-07T09:52:00",
          "2019-05-07T11:10:00",
          "2019-05-07T12:25:00",
          "2019-05-07T12:56:00"
         ],
         "y": [
          1,
          1,
          3,
          3,
          1,
          1,
          2,
          2
         ]
        },
        {
         "legendgroup": "rgb(148, 103, 189)",
         "marker": {
          "color": "rgb(148, 103, 189)",
          "opacity": 0,
          "size": 1
         },
         "mode": "markers",
         "name": "",
         "showlegend": false,
         "text": [
          null,
          null,
          null,
          null,
          null,
          null,
          null,
          null
         ],
         "type": "scatter",
         "x": [
          "2019-05-07T01:50:00",
          "2019-05-07T03:40:00",
          "2019-05-07T05:21:00",
          "2019-05-07T06:51:00",
          "2019-05-07T09:50:00",
          "2019-05-07T11:22:00",
          "2019-05-07T12:23:00",
          "2019-05-07T13:24:00"
         ],
         "y": [
          0,
          0,
          1,
          1,
          2,
          2,
          0,
          0
         ]
        },
        {
         "legendgroup": "rgb(188, 189, 34)",
         "marker": {
          "color": "rgb(188, 189, 34)",
          "opacity": 0,
          "size": 1
         },
         "mode": "markers",
         "name": "",
         "showlegend": false,
         "text": [
          null,
          null,
          null,
          null,
          null,
          null,
          null,
          null
         ],
         "type": "scatter",
         "x": [
          "2019-05-07T03:38:00",
          "2019-05-07T05:20:00",
          "2019-05-07T06:51:00",
          "2019-05-07T08:41:00",
          "2019-05-07T11:05:00",
          "2019-05-07T12:23:00",
          "2019-05-07T19:25:00",
          "2019-05-07T21:06:00"
         ],
         "y": [
          2,
          2,
          1,
          1,
          0,
          0,
          1,
          1
         ]
        },
        {
         "legendgroup": "rgb(214, 39, 40)",
         "marker": {
          "color": "rgb(214, 39, 40)",
          "opacity": 0,
          "size": 1
         },
         "mode": "markers",
         "name": "",
         "showlegend": false,
         "text": [
          null,
          null,
          null,
          null,
          null,
          null,
          null,
          null
         ],
         "type": "scatter",
         "x": [
          "2019-05-07T00:00:00",
          "2019-05-07T01:50:00",
          "2019-05-07T05:20:00",
          "2019-05-07T06:52:00",
          "2019-05-07T08:41:00",
          "2019-05-07T09:52:00",
          "2019-05-07T12:23:00",
          "2019-05-07T14:13:00"
         ],
         "y": [
          0,
          0,
          2,
          2,
          1,
          1,
          3,
          3
         ]
        },
        {
         "legendgroup": "rgb(227, 119, 194)",
         "marker": {
          "color": "rgb(227, 119, 194)",
          "opacity": 0,
          "size": 1
         },
         "mode": "markers",
         "name": "",
         "showlegend": false,
         "text": [
          null,
          null,
          null,
          null,
          null,
          null,
          null,
          null
         ],
         "type": "scatter",
         "x": [
          "2019-05-07T02:00:00",
          "2019-05-07T03:38:00",
          "2019-05-07T06:41:00",
          "2019-05-07T08:31:00",
          "2019-05-07T09:54:00",
          "2019-05-07T11:05:00",
          "2019-05-07T13:43:00",
          "2019-05-07T15:03:00"
         ],
         "y": [
          2,
          2,
          3,
          3,
          0,
          0,
          2,
          2
         ]
        },
        {
         "legendgroup": "rgb(23, 190, 207)",
         "marker": {
          "color": "rgb(23, 190, 207)",
          "opacity": 0,
          "size": 1
         },
         "mode": "markers",
         "name": "",
         "showlegend": false,
         "text": [
          null,
          null,
          null,
          null,
          null,
          null,
          null,
          null
         ],
         "type": "scatter",
         "x": [
          "2019-05-07T03:40:00",
          "2019-05-07T05:15:00",
          "2019-05-07T06:52:00",
          "2019-05-07T08:20:00",
          "2019-05-07T11:07:00",
          "2019-05-07T12:23:00",
          "2019-05-07T21:06:00",
          "2019-05-07T22:13:00"
         ],
         "y": [
          0,
          0,
          2,
          2,
          3,
          3,
          1,
          1
         ]
        },
        {
         "legendgroup": "rgb(255, 127, 14)",
         "marker": {
          "color": "rgb(255, 127, 14)",
          "opacity": 0,
          "size": 1
         },
         "mode": "markers",
         "name": "",
         "showlegend": false,
         "text": [
          null,
          null,
          null,
          null,
          null,
          null,
          null,
          null
         ],
         "type": "scatter",
         "x": [
          "2019-05-07T00:00:00",
          "2019-05-07T02:00:00",
          "2019-05-07T03:50:00",
          "2019-05-07T05:22:00",
          "2019-05-07T08:31:00",
          "2019-05-07T09:59:00",
          "2019-05-07T11:22:00",
          "2019-05-07T12:25:00"
         ],
         "y": [
          2,
          2,
          3,
          3,
          3,
          3,
          2,
          2
         ]
        },
        {
         "legendgroup": "rgb(31, 119, 180)",
         "marker": {
          "color": "rgb(31, 119, 180)",
          "opacity": 0,
          "size": 1
         },
         "mode": "markers",
         "name": "",
         "showlegend": false,
         "text": [
          null,
          null,
          null,
          null,
          null,
          null,
          null,
          null,
          null,
          null
         ],
         "type": "scatter",
         "x": [
          "2019-05-07T00:00:00",
          "2019-05-07T02:12:00",
          "2019-05-07T03:47:00",
          "2019-05-07T05:21:00",
          "2019-05-07T08:20:00",
          "2019-05-07T09:50:00",
          "2019-05-07T11:10:00",
          "2019-05-07T12:15:00",
          "2019-05-07T22:55:00",
          "2019-05-07T23:29:00"
         ],
         "y": [
          3,
          3,
          1,
          1,
          2,
          2,
          1,
          1,
          1,
          1
         ]
        },
        {
         "legendgroup": "rgb(44, 160, 44)",
         "marker": {
          "color": "rgb(44, 160, 44)",
          "opacity": 0,
          "size": 1
         },
         "mode": "markers",
         "name": "",
         "showlegend": false,
         "text": [
          null,
          null,
          null,
          null,
          null,
          null,
          null,
          null
         ],
         "type": "scatter",
         "x": [
          "2019-05-07T00:00:00",
          "2019-05-07T01:57:00",
          "2019-05-07T05:15:00",
          "2019-05-07T06:50:00",
          "2019-05-07T08:40:00",
          "2019-05-07T09:54:00",
          "2019-05-07T12:15:00",
          "2019-05-07T14:05:00"
         ],
         "y": [
          1,
          1,
          0,
          0,
          0,
          0,
          1,
          1
         ]
        }
       ],
       "layout": {
        "height": 600,
        "hovermode": "closest",
        "showlegend": false,
        "template": {
         "data": {
          "bar": [
           {
            "error_x": {
             "color": "#2a3f5f"
            },
            "error_y": {
             "color": "#2a3f5f"
            },
            "marker": {
             "line": {
              "color": "#E5ECF6",
              "width": 0.5
             }
            },
            "type": "bar"
           }
          ],
          "barpolar": [
           {
            "marker": {
             "line": {
              "color": "#E5ECF6",
              "width": 0.5
             }
            },
            "type": "barpolar"
           }
          ],
          "carpet": [
           {
            "aaxis": {
             "endlinecolor": "#2a3f5f",
             "gridcolor": "white",
             "linecolor": "white",
             "minorgridcolor": "white",
             "startlinecolor": "#2a3f5f"
            },
            "baxis": {
             "endlinecolor": "#2a3f5f",
             "gridcolor": "white",
             "linecolor": "white",
             "minorgridcolor": "white",
             "startlinecolor": "#2a3f5f"
            },
            "type": "carpet"
           }
          ],
          "choropleth": [
           {
            "colorbar": {
             "outlinewidth": 0,
             "ticks": ""
            },
            "type": "choropleth"
           }
          ],
          "contour": [
           {
            "colorbar": {
             "outlinewidth": 0,
             "ticks": ""
            },
            "colorscale": [
             [
              0,
              "#0d0887"
             ],
             [
              0.1111111111111111,
              "#46039f"
             ],
             [
              0.2222222222222222,
              "#7201a8"
             ],
             [
              0.3333333333333333,
              "#9c179e"
             ],
             [
              0.4444444444444444,
              "#bd3786"
             ],
             [
              0.5555555555555556,
              "#d8576b"
             ],
             [
              0.6666666666666666,
              "#ed7953"
             ],
             [
              0.7777777777777778,
              "#fb9f3a"
             ],
             [
              0.8888888888888888,
              "#fdca26"
             ],
             [
              1,
              "#f0f921"
             ]
            ],
            "type": "contour"
           }
          ],
          "contourcarpet": [
           {
            "colorbar": {
             "outlinewidth": 0,
             "ticks": ""
            },
            "type": "contourcarpet"
           }
          ],
          "heatmap": [
           {
            "colorbar": {
             "outlinewidth": 0,
             "ticks": ""
            },
            "colorscale": [
             [
              0,
              "#0d0887"
             ],
             [
              0.1111111111111111,
              "#46039f"
             ],
             [
              0.2222222222222222,
              "#7201a8"
             ],
             [
              0.3333333333333333,
              "#9c179e"
             ],
             [
              0.4444444444444444,
              "#bd3786"
             ],
             [
              0.5555555555555556,
              "#d8576b"
             ],
             [
              0.6666666666666666,
              "#ed7953"
             ],
             [
              0.7777777777777778,
              "#fb9f3a"
             ],
             [
              0.8888888888888888,
              "#fdca26"
             ],
             [
              1,
              "#f0f921"
             ]
            ],
            "type": "heatmap"
           }
          ],
          "heatmapgl": [
           {
            "colorbar": {
             "outlinewidth": 0,
             "ticks": ""
            },
            "colorscale": [
             [
              0,
              "#0d0887"
             ],
             [
              0.1111111111111111,
              "#46039f"
             ],
             [
              0.2222222222222222,
              "#7201a8"
             ],
             [
              0.3333333333333333,
              "#9c179e"
             ],
             [
              0.4444444444444444,
              "#bd3786"
             ],
             [
              0.5555555555555556,
              "#d8576b"
             ],
             [
              0.6666666666666666,
              "#ed7953"
             ],
             [
              0.7777777777777778,
              "#fb9f3a"
             ],
             [
              0.8888888888888888,
              "#fdca26"
             ],
             [
              1,
              "#f0f921"
             ]
            ],
            "type": "heatmapgl"
           }
          ],
          "histogram": [
           {
            "marker": {
             "colorbar": {
              "outlinewidth": 0,
              "ticks": ""
             }
            },
            "type": "histogram"
           }
          ],
          "histogram2d": [
           {
            "colorbar": {
             "outlinewidth": 0,
             "ticks": ""
            },
            "colorscale": [
             [
              0,
              "#0d0887"
             ],
             [
              0.1111111111111111,
              "#46039f"
             ],
             [
              0.2222222222222222,
              "#7201a8"
             ],
             [
              0.3333333333333333,
              "#9c179e"
             ],
             [
              0.4444444444444444,
              "#bd3786"
             ],
             [
              0.5555555555555556,
              "#d8576b"
             ],
             [
              0.6666666666666666,
              "#ed7953"
             ],
             [
              0.7777777777777778,
              "#fb9f3a"
             ],
             [
              0.8888888888888888,
              "#fdca26"
             ],
             [
              1,
              "#f0f921"
             ]
            ],
            "type": "histogram2d"
           }
          ],
          "histogram2dcontour": [
           {
            "colorbar": {
             "outlinewidth": 0,
             "ticks": ""
            },
            "colorscale": [
             [
              0,
              "#0d0887"
             ],
             [
              0.1111111111111111,
              "#46039f"
             ],
             [
              0.2222222222222222,
              "#7201a8"
             ],
             [
              0.3333333333333333,
              "#9c179e"
             ],
             [
              0.4444444444444444,
              "#bd3786"
             ],
             [
              0.5555555555555556,
              "#d8576b"
             ],
             [
              0.6666666666666666,
              "#ed7953"
             ],
             [
              0.7777777777777778,
              "#fb9f3a"
             ],
             [
              0.8888888888888888,
              "#fdca26"
             ],
             [
              1,
              "#f0f921"
             ]
            ],
            "type": "histogram2dcontour"
           }
          ],
          "mesh3d": [
           {
            "colorbar": {
             "outlinewidth": 0,
             "ticks": ""
            },
            "type": "mesh3d"
           }
          ],
          "parcoords": [
           {
            "line": {
             "colorbar": {
              "outlinewidth": 0,
              "ticks": ""
             }
            },
            "type": "parcoords"
           }
          ],
          "pie": [
           {
            "automargin": true,
            "type": "pie"
           }
          ],
          "scatter": [
           {
            "marker": {
             "colorbar": {
              "outlinewidth": 0,
              "ticks": ""
             }
            },
            "type": "scatter"
           }
          ],
          "scatter3d": [
           {
            "line": {
             "colorbar": {
              "outlinewidth": 0,
              "ticks": ""
             }
            },
            "marker": {
             "colorbar": {
              "outlinewidth": 0,
              "ticks": ""
             }
            },
            "type": "scatter3d"
           }
          ],
          "scattercarpet": [
           {
            "marker": {
             "colorbar": {
              "outlinewidth": 0,
              "ticks": ""
             }
            },
            "type": "scattercarpet"
           }
          ],
          "scattergeo": [
           {
            "marker": {
             "colorbar": {
              "outlinewidth": 0,
              "ticks": ""
             }
            },
            "type": "scattergeo"
           }
          ],
          "scattergl": [
           {
            "marker": {
             "colorbar": {
              "outlinewidth": 0,
              "ticks": ""
             }
            },
            "type": "scattergl"
           }
          ],
          "scattermapbox": [
           {
            "marker": {
             "colorbar": {
              "outlinewidth": 0,
              "ticks": ""
             }
            },
            "type": "scattermapbox"
           }
          ],
          "scatterpolar": [
           {
            "marker": {
             "colorbar": {
              "outlinewidth": 0,
              "ticks": ""
             }
            },
            "type": "scatterpolar"
           }
          ],
          "scatterpolargl": [
           {
            "marker": {
             "colorbar": {
              "outlinewidth": 0,
              "ticks": ""
             }
            },
            "type": "scatterpolargl"
           }
          ],
          "scatterternary": [
           {
            "marker": {
             "colorbar": {
              "outlinewidth": 0,
              "ticks": ""
             }
            },
            "type": "scatterternary"
           }
          ],
          "surface": [
           {
            "colorbar": {
             "outlinewidth": 0,
             "ticks": ""
            },
            "colorscale": [
             [
              0,
              "#0d0887"
             ],
             [
              0.1111111111111111,
              "#46039f"
             ],
             [
              0.2222222222222222,
              "#7201a8"
             ],
             [
              0.3333333333333333,
              "#9c179e"
             ],
             [
              0.4444444444444444,
              "#bd3786"
             ],
             [
              0.5555555555555556,
              "#d8576b"
             ],
             [
              0.6666666666666666,
              "#ed7953"
             ],
             [
              0.7777777777777778,
              "#fb9f3a"
             ],
             [
              0.8888888888888888,
              "#fdca26"
             ],
             [
              1,
              "#f0f921"
             ]
            ],
            "type": "surface"
           }
          ],
          "table": [
           {
            "cells": {
             "fill": {
              "color": "#EBF0F8"
             },
             "line": {
              "color": "white"
             }
            },
            "header": {
             "fill": {
              "color": "#C8D4E3"
             },
             "line": {
              "color": "white"
             }
            },
            "type": "table"
           }
          ]
         },
         "layout": {
          "annotationdefaults": {
           "arrowcolor": "#2a3f5f",
           "arrowhead": 0,
           "arrowwidth": 1
          },
          "coloraxis": {
           "colorbar": {
            "outlinewidth": 0,
            "ticks": ""
           }
          },
          "colorscale": {
           "diverging": [
            [
             0,
             "#8e0152"
            ],
            [
             0.1,
             "#c51b7d"
            ],
            [
             0.2,
             "#de77ae"
            ],
            [
             0.3,
             "#f1b6da"
            ],
            [
             0.4,
             "#fde0ef"
            ],
            [
             0.5,
             "#f7f7f7"
            ],
            [
             0.6,
             "#e6f5d0"
            ],
            [
             0.7,
             "#b8e186"
            ],
            [
             0.8,
             "#7fbc41"
            ],
            [
             0.9,
             "#4d9221"
            ],
            [
             1,
             "#276419"
            ]
           ],
           "sequential": [
            [
             0,
             "#0d0887"
            ],
            [
             0.1111111111111111,
             "#46039f"
            ],
            [
             0.2222222222222222,
             "#7201a8"
            ],
            [
             0.3333333333333333,
             "#9c179e"
            ],
            [
             0.4444444444444444,
             "#bd3786"
            ],
            [
             0.5555555555555556,
             "#d8576b"
            ],
            [
             0.6666666666666666,
             "#ed7953"
            ],
            [
             0.7777777777777778,
             "#fb9f3a"
            ],
            [
             0.8888888888888888,
             "#fdca26"
            ],
            [
             1,
             "#f0f921"
            ]
           ],
           "sequentialminus": [
            [
             0,
             "#0d0887"
            ],
            [
             0.1111111111111111,
             "#46039f"
            ],
            [
             0.2222222222222222,
             "#7201a8"
            ],
            [
             0.3333333333333333,
             "#9c179e"
            ],
            [
             0.4444444444444444,
             "#bd3786"
            ],
            [
             0.5555555555555556,
             "#d8576b"
            ],
            [
             0.6666666666666666,
             "#ed7953"
            ],
            [
             0.7777777777777778,
             "#fb9f3a"
            ],
            [
             0.8888888888888888,
             "#fdca26"
            ],
            [
             1,
             "#f0f921"
            ]
           ]
          },
          "colorway": [
           "#636efa",
           "#EF553B",
           "#00cc96",
           "#ab63fa",
           "#FFA15A",
           "#19d3f3",
           "#FF6692",
           "#B6E880",
           "#FF97FF",
           "#FECB52"
          ],
          "font": {
           "color": "#2a3f5f"
          },
          "geo": {
           "bgcolor": "white",
           "lakecolor": "white",
           "landcolor": "#E5ECF6",
           "showlakes": true,
           "showland": true,
           "subunitcolor": "white"
          },
          "hoverlabel": {
           "align": "left"
          },
          "hovermode": "closest",
          "mapbox": {
           "style": "light"
          },
          "paper_bgcolor": "white",
          "plot_bgcolor": "#E5ECF6",
          "polar": {
           "angularaxis": {
            "gridcolor": "white",
            "linecolor": "white",
            "ticks": ""
           },
           "bgcolor": "#E5ECF6",
           "radialaxis": {
            "gridcolor": "white",
            "linecolor": "white",
            "ticks": ""
           }
          },
          "scene": {
           "xaxis": {
            "backgroundcolor": "#E5ECF6",
            "gridcolor": "white",
            "gridwidth": 2,
            "linecolor": "white",
            "showbackground": true,
            "ticks": "",
            "zerolinecolor": "white"
           },
           "yaxis": {
            "backgroundcolor": "#E5ECF6",
            "gridcolor": "white",
            "gridwidth": 2,
            "linecolor": "white",
            "showbackground": true,
            "ticks": "",
            "zerolinecolor": "white"
           },
           "zaxis": {
            "backgroundcolor": "#E5ECF6",
            "gridcolor": "white",
            "gridwidth": 2,
            "linecolor": "white",
            "showbackground": true,
            "ticks": "",
            "zerolinecolor": "white"
           }
          },
          "shapedefaults": {
           "line": {
            "color": "#2a3f5f"
           }
          },
          "ternary": {
           "aaxis": {
            "gridcolor": "white",
            "linecolor": "white",
            "ticks": ""
           },
           "baxis": {
            "gridcolor": "white",
            "linecolor": "white",
            "ticks": ""
           },
           "bgcolor": "#E5ECF6",
           "caxis": {
            "gridcolor": "white",
            "linecolor": "white",
            "ticks": ""
           }
          },
          "title": {
           "x": 0.05
          },
          "xaxis": {
           "automargin": true,
           "gridcolor": "white",
           "linecolor": "white",
           "ticks": "",
           "title": {
            "standoff": 15
           },
           "zerolinecolor": "white",
           "zerolinewidth": 2
          },
          "yaxis": {
           "automargin": true,
           "gridcolor": "white",
           "linecolor": "white",
           "ticks": "",
           "title": {
            "standoff": 15
           },
           "zerolinecolor": "white",
           "zerolinewidth": 2
          }
         }
        },
        "title": {
         "text": "Gantt Chart"
        },
        "xaxis": {
         "rangeselector": {
          "buttons": [
           {
            "count": 7,
            "label": "1w",
            "step": "day",
            "stepmode": "backward"
           },
           {
            "count": 1,
            "label": "1m",
            "step": "month",
            "stepmode": "backward"
           },
           {
            "count": 6,
            "label": "6m",
            "step": "month",
            "stepmode": "backward"
           },
           {
            "count": 1,
            "label": "YTD",
            "step": "year",
            "stepmode": "todate"
           },
           {
            "count": 1,
            "label": "1y",
            "step": "year",
            "stepmode": "backward"
           },
           {
            "step": "all"
           }
          ]
         },
         "showgrid": false,
         "type": "date",
         "zeroline": false
        },
        "yaxis": {
         "autorange": false,
         "range": [
          -1,
          5
         ],
         "showgrid": false,
         "ticktext": [
          "ROOM_90_1",
          "ROOM_89_1",
          "ROOM_87_1",
          "ROOM_86_1"
         ],
         "tickvals": [
          0,
          1,
          2,
          3
         ],
         "zeroline": false
        }
       }
      },
      "text/html": [
       "<div>                            <div id=\"e1f82fd3-b22f-410e-a964-fca4971c19b4\" class=\"plotly-graph-div\" style=\"height:600px; width:100%;\"></div>            <script type=\"text/javascript\">                require([\"plotly\"], function(Plotly) {                    window.PLOTLYENV=window.PLOTLYENV || {};                                    if (document.getElementById(\"e1f82fd3-b22f-410e-a964-fca4971c19b4\")) {                    Plotly.newPlot(                        \"e1f82fd3-b22f-410e-a964-fca4971c19b4\",                        [{\"fill\": \"toself\", \"fillcolor\": \"rgb(127, 127, 127)\", \"hoverinfo\": \"name\", \"legendgroup\": \"rgb(127, 127, 127)\", \"mode\": \"none\", \"name\": \"ROOM_89_1\", \"type\": \"scatter\", \"x\": [\"2019-05-07T02:12:00\", \"2019-05-07T03:50:00\", \"2019-05-07T03:50:00\", \"2019-05-07T02:12:00\", \"2019-05-07T02:12:00\", \"2019-05-07T06:50:00\", \"2019-05-07T08:40:00\", \"2019-05-07T08:40:00\", \"2019-05-07T06:50:00\", \"2019-05-07T06:50:00\", \"2019-05-07T09:59:00\", \"2019-05-07T11:07:00\", \"2019-05-07T11:07:00\", \"2019-05-07T09:59:00\", \"2019-05-07T09:59:00\", \"2019-05-07T17:35:00\", \"2019-05-07T19:25:00\", \"2019-05-07T19:25:00\", \"2019-05-07T17:35:00\"], \"y\": [2.8, 2.8, 3.2, 3.2, null, -0.2, -0.2, 0.2, 0.2, null, 2.8, 2.8, 3.2, 3.2, null, 0.8, 0.8, 1.2, 1.2]}, {\"fill\": \"toself\", \"fillcolor\": \"rgb(140, 86, 75)\", \"hoverinfo\": \"name\", \"legendgroup\": \"rgb(140, 86, 75)\", \"mode\": \"none\", \"name\": \"ROOM_87_1\", \"type\": \"scatter\", \"x\": [\"2019-05-07T01:57:00\", \"2019-05-07T03:47:00\", \"2019-05-07T03:47:00\", \"2019-05-07T01:57:00\", \"2019-05-07T01:57:00\", \"2019-05-07T05:22:00\", \"2019-05-07T06:41:00\", \"2019-05-07T06:41:00\", \"2019-05-07T05:22:00\", \"2019-05-07T05:22:00\", \"2019-05-07T09:52:00\", \"2019-05-07T11:10:00\", \"2019-05-07T11:10:00\", \"2019-05-07T09:52:00\", \"2019-05-07T09:52:00\", \"2019-05-07T12:25:00\", \"2019-05-07T12:56:00\", \"2019-05-07T12:56:00\", \"2019-05-07T12:25:00\"], \"y\": [0.8, 0.8, 1.2, 1.2, null, 2.8, 2.8, 3.2, 3.2, null, 0.8, 0.8, 1.2, 1.2, null, 1.8, 1.8, 2.2, 2.2]}, {\"fill\": \"toself\", \"fillcolor\": \"rgb(148, 103, 189)\", \"hoverinfo\": \"name\", \"legendgroup\": \"rgb(148, 103, 189)\", \"mode\": \"none\", \"name\": \"ROOM_90_1\", \"type\": \"scatter\", \"x\": [\"2019-05-07T01:50:00\", \"2019-05-07T03:40:00\", \"2019-05-07T03:40:00\", \"2019-05-07T01:50:00\", \"2019-05-07T01:50:00\", \"2019-05-07T05:21:00\", \"2019-05-07T06:51:00\", \"2019-05-07T06:51:00\", \"2019-05-07T05:21:00\", \"2019-05-07T05:21:00\", \"2019-05-07T09:50:00\", \"2019-05-07T11:22:00\", \"2019-05-07T11:22:00\", \"2019-05-07T09:50:00\", \"2019-05-07T09:50:00\", \"2019-05-07T12:23:00\", \"2019-05-07T13:24:00\", \"2019-05-07T13:24:00\", \"2019-05-07T12:23:00\"], \"y\": [-0.2, -0.2, 0.2, 0.2, null, 0.8, 0.8, 1.2, 1.2, null, 1.8, 1.8, 2.2, 2.2, null, -0.2, -0.2, 0.2, 0.2]}, {\"fill\": \"toself\", \"fillcolor\": \"rgb(188, 189, 34)\", \"hoverinfo\": \"name\", \"legendgroup\": \"rgb(188, 189, 34)\", \"mode\": \"none\", \"name\": \"ROOM_89_1\", \"type\": \"scatter\", \"x\": [\"2019-05-07T03:38:00\", \"2019-05-07T05:20:00\", \"2019-05-07T05:20:00\", \"2019-05-07T03:38:00\", \"2019-05-07T03:38:00\", \"2019-05-07T06:51:00\", \"2019-05-07T08:41:00\", \"2019-05-07T08:41:00\", \"2019-05-07T06:51:00\", \"2019-05-07T06:51:00\", \"2019-05-07T11:05:00\", \"2019-05-07T12:23:00\", \"2019-05-07T12:23:00\", \"2019-05-07T11:05:00\", \"2019-05-07T11:05:00\", \"2019-05-07T19:25:00\", \"2019-05-07T21:06:00\", \"2019-05-07T21:06:00\", \"2019-05-07T19:25:00\"], \"y\": [1.8, 1.8, 2.2, 2.2, null, 0.8, 0.8, 1.2, 1.2, null, -0.2, -0.2, 0.2, 0.2, null, 0.8, 0.8, 1.2, 1.2]}, {\"fill\": \"toself\", \"fillcolor\": \"rgb(214, 39, 40)\", \"hoverinfo\": \"name\", \"legendgroup\": \"rgb(214, 39, 40)\", \"mode\": \"none\", \"name\": \"ROOM_86_1\", \"type\": \"scatter\", \"x\": [\"2019-05-07T00:00:00\", \"2019-05-07T01:50:00\", \"2019-05-07T01:50:00\", \"2019-05-07T00:00:00\", \"2019-05-07T00:00:00\", \"2019-05-07T05:20:00\", \"2019-05-07T06:52:00\", \"2019-05-07T06:52:00\", \"2019-05-07T05:20:00\", \"2019-05-07T05:20:00\", \"2019-05-07T08:41:00\", \"2019-05-07T09:52:00\", \"2019-05-07T09:52:00\", \"2019-05-07T08:41:00\", \"2019-05-07T08:41:00\", \"2019-05-07T12:23:00\", \"2019-05-07T14:13:00\", \"2019-05-07T14:13:00\", \"2019-05-07T12:23:00\"], \"y\": [-0.2, -0.2, 0.2, 0.2, null, 1.8, 1.8, 2.2, 2.2, null, 0.8, 0.8, 1.2, 1.2, null, 2.8, 2.8, 3.2, 3.2]}, {\"fill\": \"toself\", \"fillcolor\": \"rgb(227, 119, 194)\", \"hoverinfo\": \"name\", \"legendgroup\": \"rgb(227, 119, 194)\", \"mode\": \"none\", \"name\": \"ROOM_87_1\", \"type\": \"scatter\", \"x\": [\"2019-05-07T02:00:00\", \"2019-05-07T03:38:00\", \"2019-05-07T03:38:00\", \"2019-05-07T02:00:00\", \"2019-05-07T02:00:00\", \"2019-05-07T06:41:00\", \"2019-05-07T08:31:00\", \"2019-05-07T08:31:00\", \"2019-05-07T06:41:00\", \"2019-05-07T06:41:00\", \"2019-05-07T09:54:00\", \"2019-05-07T11:05:00\", \"2019-05-07T11:05:00\", \"2019-05-07T09:54:00\", \"2019-05-07T09:54:00\", \"2019-05-07T13:43:00\", \"2019-05-07T15:03:00\", \"2019-05-07T15:03:00\", \"2019-05-07T13:43:00\"], \"y\": [1.8, 1.8, 2.2, 2.2, null, 2.8, 2.8, 3.2, 3.2, null, -0.2, -0.2, 0.2, 0.2, null, 1.8, 1.8, 2.2, 2.2]}, {\"fill\": \"toself\", \"fillcolor\": \"rgb(23, 190, 207)\", \"hoverinfo\": \"name\", \"legendgroup\": \"rgb(23, 190, 207)\", \"mode\": \"none\", \"name\": \"ROOM_89_1\", \"type\": \"scatter\", \"x\": [\"2019-05-07T03:40:00\", \"2019-05-07T05:15:00\", \"2019-05-07T05:15:00\", \"2019-05-07T03:40:00\", \"2019-05-07T03:40:00\", \"2019-05-07T06:52:00\", \"2019-05-07T08:20:00\", \"2019-05-07T08:20:00\", \"2019-05-07T06:52:00\", \"2019-05-07T06:52:00\", \"2019-05-07T11:07:00\", \"2019-05-07T12:23:00\", \"2019-05-07T12:23:00\", \"2019-05-07T11:07:00\", \"2019-05-07T11:07:00\", \"2019-05-07T21:06:00\", \"2019-05-07T22:13:00\", \"2019-05-07T22:13:00\", \"2019-05-07T21:06:00\"], \"y\": [-0.2, -0.2, 0.2, 0.2, null, 1.8, 1.8, 2.2, 2.2, null, 2.8, 2.8, 3.2, 3.2, null, 0.8, 0.8, 1.2, 1.2]}, {\"fill\": \"toself\", \"fillcolor\": \"rgb(255, 127, 14)\", \"hoverinfo\": \"name\", \"legendgroup\": \"rgb(255, 127, 14)\", \"mode\": \"none\", \"name\": \"ROOM_87_1\", \"type\": \"scatter\", \"x\": [\"2019-05-07T00:00:00\", \"2019-05-07T02:00:00\", \"2019-05-07T02:00:00\", \"2019-05-07T00:00:00\", \"2019-05-07T00:00:00\", \"2019-05-07T03:50:00\", \"2019-05-07T05:22:00\", \"2019-05-07T05:22:00\", \"2019-05-07T03:50:00\", \"2019-05-07T03:50:00\", \"2019-05-07T08:31:00\", \"2019-05-07T09:59:00\", \"2019-05-07T09:59:00\", \"2019-05-07T08:31:00\", \"2019-05-07T08:31:00\", \"2019-05-07T11:22:00\", \"2019-05-07T12:25:00\", \"2019-05-07T12:25:00\", \"2019-05-07T11:22:00\"], \"y\": [1.8, 1.8, 2.2, 2.2, null, 2.8, 2.8, 3.2, 3.2, null, 2.8, 2.8, 3.2, 3.2, null, 1.8, 1.8, 2.2, 2.2]}, {\"fill\": \"toself\", \"fillcolor\": \"rgb(31, 119, 180)\", \"hoverinfo\": \"name\", \"legendgroup\": \"rgb(31, 119, 180)\", \"mode\": \"none\", \"name\": \"ROOM_89_1\", \"type\": \"scatter\", \"x\": [\"2019-05-07T00:00:00\", \"2019-05-07T02:12:00\", \"2019-05-07T02:12:00\", \"2019-05-07T00:00:00\", \"2019-05-07T00:00:00\", \"2019-05-07T03:47:00\", \"2019-05-07T05:21:00\", \"2019-05-07T05:21:00\", \"2019-05-07T03:47:00\", \"2019-05-07T03:47:00\", \"2019-05-07T08:20:00\", \"2019-05-07T09:50:00\", \"2019-05-07T09:50:00\", \"2019-05-07T08:20:00\", \"2019-05-07T08:20:00\", \"2019-05-07T11:10:00\", \"2019-05-07T12:15:00\", \"2019-05-07T12:15:00\", \"2019-05-07T11:10:00\", \"2019-05-07T11:10:00\", \"2019-05-07T22:55:00\", \"2019-05-07T23:29:00\", \"2019-05-07T23:29:00\", \"2019-05-07T22:55:00\"], \"y\": [2.8, 2.8, 3.2, 3.2, null, 0.8, 0.8, 1.2, 1.2, null, 1.8, 1.8, 2.2, 2.2, null, 0.8, 0.8, 1.2, 1.2, null, 0.8, 0.8, 1.2, 1.2]}, {\"fill\": \"toself\", \"fillcolor\": \"rgb(44, 160, 44)\", \"hoverinfo\": \"name\", \"legendgroup\": \"rgb(44, 160, 44)\", \"mode\": \"none\", \"name\": \"ROOM_89_1\", \"type\": \"scatter\", \"x\": [\"2019-05-07T00:00:00\", \"2019-05-07T01:57:00\", \"2019-05-07T01:57:00\", \"2019-05-07T00:00:00\", \"2019-05-07T00:00:00\", \"2019-05-07T05:15:00\", \"2019-05-07T06:50:00\", \"2019-05-07T06:50:00\", \"2019-05-07T05:15:00\", \"2019-05-07T05:15:00\", \"2019-05-07T08:40:00\", \"2019-05-07T09:54:00\", \"2019-05-07T09:54:00\", \"2019-05-07T08:40:00\", \"2019-05-07T08:40:00\", \"2019-05-07T12:15:00\", \"2019-05-07T14:05:00\", \"2019-05-07T14:05:00\", \"2019-05-07T12:15:00\"], \"y\": [0.8, 0.8, 1.2, 1.2, null, -0.2, -0.2, 0.2, 0.2, null, -0.2, -0.2, 0.2, 0.2, null, 0.8, 0.8, 1.2, 1.2]}, {\"legendgroup\": \"rgb(127, 127, 127)\", \"marker\": {\"color\": \"rgb(127, 127, 127)\", \"opacity\": 0, \"size\": 1}, \"mode\": \"markers\", \"name\": \"\", \"showlegend\": false, \"text\": [null, null, null, null, null, null, null, null], \"type\": \"scatter\", \"x\": [\"2019-05-07T02:12:00\", \"2019-05-07T03:50:00\", \"2019-05-07T06:50:00\", \"2019-05-07T08:40:00\", \"2019-05-07T09:59:00\", \"2019-05-07T11:07:00\", \"2019-05-07T17:35:00\", \"2019-05-07T19:25:00\"], \"y\": [3, 3, 0, 0, 3, 3, 1, 1]}, {\"legendgroup\": \"rgb(140, 86, 75)\", \"marker\": {\"color\": \"rgb(140, 86, 75)\", \"opacity\": 0, \"size\": 1}, \"mode\": \"markers\", \"name\": \"\", \"showlegend\": false, \"text\": [null, null, null, null, null, null, null, null], \"type\": \"scatter\", \"x\": [\"2019-05-07T01:57:00\", \"2019-05-07T03:47:00\", \"2019-05-07T05:22:00\", \"2019-05-07T06:41:00\", \"2019-05-07T09:52:00\", \"2019-05-07T11:10:00\", \"2019-05-07T12:25:00\", \"2019-05-07T12:56:00\"], \"y\": [1, 1, 3, 3, 1, 1, 2, 2]}, {\"legendgroup\": \"rgb(148, 103, 189)\", \"marker\": {\"color\": \"rgb(148, 103, 189)\", \"opacity\": 0, \"size\": 1}, \"mode\": \"markers\", \"name\": \"\", \"showlegend\": false, \"text\": [null, null, null, null, null, null, null, null], \"type\": \"scatter\", \"x\": [\"2019-05-07T01:50:00\", \"2019-05-07T03:40:00\", \"2019-05-07T05:21:00\", \"2019-05-07T06:51:00\", \"2019-05-07T09:50:00\", \"2019-05-07T11:22:00\", \"2019-05-07T12:23:00\", \"2019-05-07T13:24:00\"], \"y\": [0, 0, 1, 1, 2, 2, 0, 0]}, {\"legendgroup\": \"rgb(188, 189, 34)\", \"marker\": {\"color\": \"rgb(188, 189, 34)\", \"opacity\": 0, \"size\": 1}, \"mode\": \"markers\", \"name\": \"\", \"showlegend\": false, \"text\": [null, null, null, null, null, null, null, null], \"type\": \"scatter\", \"x\": [\"2019-05-07T03:38:00\", \"2019-05-07T05:20:00\", \"2019-05-07T06:51:00\", \"2019-05-07T08:41:00\", \"2019-05-07T11:05:00\", \"2019-05-07T12:23:00\", \"2019-05-07T19:25:00\", \"2019-05-07T21:06:00\"], \"y\": [2, 2, 1, 1, 0, 0, 1, 1]}, {\"legendgroup\": \"rgb(214, 39, 40)\", \"marker\": {\"color\": \"rgb(214, 39, 40)\", \"opacity\": 0, \"size\": 1}, \"mode\": \"markers\", \"name\": \"\", \"showlegend\": false, \"text\": [null, null, null, null, null, null, null, null], \"type\": \"scatter\", \"x\": [\"2019-05-07T00:00:00\", \"2019-05-07T01:50:00\", \"2019-05-07T05:20:00\", \"2019-05-07T06:52:00\", \"2019-05-07T08:41:00\", \"2019-05-07T09:52:00\", \"2019-05-07T12:23:00\", \"2019-05-07T14:13:00\"], \"y\": [0, 0, 2, 2, 1, 1, 3, 3]}, {\"legendgroup\": \"rgb(227, 119, 194)\", \"marker\": {\"color\": \"rgb(227, 119, 194)\", \"opacity\": 0, \"size\": 1}, \"mode\": \"markers\", \"name\": \"\", \"showlegend\": false, \"text\": [null, null, null, null, null, null, null, null], \"type\": \"scatter\", \"x\": [\"2019-05-07T02:00:00\", \"2019-05-07T03:38:00\", \"2019-05-07T06:41:00\", \"2019-05-07T08:31:00\", \"2019-05-07T09:54:00\", \"2019-05-07T11:05:00\", \"2019-05-07T13:43:00\", \"2019-05-07T15:03:00\"], \"y\": [2, 2, 3, 3, 0, 0, 2, 2]}, {\"legendgroup\": \"rgb(23, 190, 207)\", \"marker\": {\"color\": \"rgb(23, 190, 207)\", \"opacity\": 0, \"size\": 1}, \"mode\": \"markers\", \"name\": \"\", \"showlegend\": false, \"text\": [null, null, null, null, null, null, null, null], \"type\": \"scatter\", \"x\": [\"2019-05-07T03:40:00\", \"2019-05-07T05:15:00\", \"2019-05-07T06:52:00\", \"2019-05-07T08:20:00\", \"2019-05-07T11:07:00\", \"2019-05-07T12:23:00\", \"2019-05-07T21:06:00\", \"2019-05-07T22:13:00\"], \"y\": [0, 0, 2, 2, 3, 3, 1, 1]}, {\"legendgroup\": \"rgb(255, 127, 14)\", \"marker\": {\"color\": \"rgb(255, 127, 14)\", \"opacity\": 0, \"size\": 1}, \"mode\": \"markers\", \"name\": \"\", \"showlegend\": false, \"text\": [null, null, null, null, null, null, null, null], \"type\": \"scatter\", \"x\": [\"2019-05-07T00:00:00\", \"2019-05-07T02:00:00\", \"2019-05-07T03:50:00\", \"2019-05-07T05:22:00\", \"2019-05-07T08:31:00\", \"2019-05-07T09:59:00\", \"2019-05-07T11:22:00\", \"2019-05-07T12:25:00\"], \"y\": [2, 2, 3, 3, 3, 3, 2, 2]}, {\"legendgroup\": \"rgb(31, 119, 180)\", \"marker\": {\"color\": \"rgb(31, 119, 180)\", \"opacity\": 0, \"size\": 1}, \"mode\": \"markers\", \"name\": \"\", \"showlegend\": false, \"text\": [null, null, null, null, null, null, null, null, null, null], \"type\": \"scatter\", \"x\": [\"2019-05-07T00:00:00\", \"2019-05-07T02:12:00\", \"2019-05-07T03:47:00\", \"2019-05-07T05:21:00\", \"2019-05-07T08:20:00\", \"2019-05-07T09:50:00\", \"2019-05-07T11:10:00\", \"2019-05-07T12:15:00\", \"2019-05-07T22:55:00\", \"2019-05-07T23:29:00\"], \"y\": [3, 3, 1, 1, 2, 2, 1, 1, 1, 1]}, {\"legendgroup\": \"rgb(44, 160, 44)\", \"marker\": {\"color\": \"rgb(44, 160, 44)\", \"opacity\": 0, \"size\": 1}, \"mode\": \"markers\", \"name\": \"\", \"showlegend\": false, \"text\": [null, null, null, null, null, null, null, null], \"type\": \"scatter\", \"x\": [\"2019-05-07T00:00:00\", \"2019-05-07T01:57:00\", \"2019-05-07T05:15:00\", \"2019-05-07T06:50:00\", \"2019-05-07T08:40:00\", \"2019-05-07T09:54:00\", \"2019-05-07T12:15:00\", \"2019-05-07T14:05:00\"], \"y\": [1, 1, 0, 0, 0, 0, 1, 1]}],                        {\"height\": 600, \"hovermode\": \"closest\", \"showlegend\": false, \"template\": {\"data\": {\"bar\": [{\"error_x\": {\"color\": \"#2a3f5f\"}, \"error_y\": {\"color\": \"#2a3f5f\"}, \"marker\": {\"line\": {\"color\": \"#E5ECF6\", \"width\": 0.5}}, \"type\": \"bar\"}], \"barpolar\": [{\"marker\": {\"line\": {\"color\": \"#E5ECF6\", \"width\": 0.5}}, \"type\": \"barpolar\"}], \"carpet\": [{\"aaxis\": {\"endlinecolor\": \"#2a3f5f\", \"gridcolor\": \"white\", \"linecolor\": \"white\", \"minorgridcolor\": \"white\", \"startlinecolor\": \"#2a3f5f\"}, \"baxis\": {\"endlinecolor\": \"#2a3f5f\", \"gridcolor\": \"white\", \"linecolor\": \"white\", \"minorgridcolor\": \"white\", \"startlinecolor\": \"#2a3f5f\"}, \"type\": \"carpet\"}], \"choropleth\": [{\"colorbar\": {\"outlinewidth\": 0, \"ticks\": \"\"}, \"type\": \"choropleth\"}], \"contour\": [{\"colorbar\": {\"outlinewidth\": 0, \"ticks\": \"\"}, \"colorscale\": [[0.0, \"#0d0887\"], [0.1111111111111111, \"#46039f\"], [0.2222222222222222, \"#7201a8\"], [0.3333333333333333, \"#9c179e\"], [0.4444444444444444, \"#bd3786\"], [0.5555555555555556, \"#d8576b\"], [0.6666666666666666, \"#ed7953\"], [0.7777777777777778, \"#fb9f3a\"], [0.8888888888888888, \"#fdca26\"], [1.0, \"#f0f921\"]], \"type\": \"contour\"}], \"contourcarpet\": [{\"colorbar\": {\"outlinewidth\": 0, \"ticks\": \"\"}, \"type\": \"contourcarpet\"}], \"heatmap\": [{\"colorbar\": {\"outlinewidth\": 0, \"ticks\": \"\"}, \"colorscale\": [[0.0, \"#0d0887\"], [0.1111111111111111, \"#46039f\"], [0.2222222222222222, \"#7201a8\"], [0.3333333333333333, \"#9c179e\"], [0.4444444444444444, \"#bd3786\"], [0.5555555555555556, \"#d8576b\"], [0.6666666666666666, \"#ed7953\"], [0.7777777777777778, \"#fb9f3a\"], [0.8888888888888888, \"#fdca26\"], [1.0, \"#f0f921\"]], \"type\": \"heatmap\"}], \"heatmapgl\": [{\"colorbar\": {\"outlinewidth\": 0, \"ticks\": \"\"}, \"colorscale\": [[0.0, \"#0d0887\"], [0.1111111111111111, \"#46039f\"], [0.2222222222222222, \"#7201a8\"], [0.3333333333333333, \"#9c179e\"], [0.4444444444444444, \"#bd3786\"], [0.5555555555555556, \"#d8576b\"], [0.6666666666666666, \"#ed7953\"], [0.7777777777777778, \"#fb9f3a\"], [0.8888888888888888, \"#fdca26\"], [1.0, \"#f0f921\"]], \"type\": \"heatmapgl\"}], \"histogram\": [{\"marker\": {\"colorbar\": {\"outlinewidth\": 0, \"ticks\": \"\"}}, \"type\": \"histogram\"}], \"histogram2d\": [{\"colorbar\": {\"outlinewidth\": 0, \"ticks\": \"\"}, \"colorscale\": [[0.0, \"#0d0887\"], [0.1111111111111111, \"#46039f\"], [0.2222222222222222, \"#7201a8\"], [0.3333333333333333, \"#9c179e\"], [0.4444444444444444, \"#bd3786\"], [0.5555555555555556, \"#d8576b\"], [0.6666666666666666, \"#ed7953\"], [0.7777777777777778, \"#fb9f3a\"], [0.8888888888888888, \"#fdca26\"], [1.0, \"#f0f921\"]], \"type\": \"histogram2d\"}], \"histogram2dcontour\": [{\"colorbar\": {\"outlinewidth\": 0, \"ticks\": \"\"}, \"colorscale\": [[0.0, \"#0d0887\"], [0.1111111111111111, \"#46039f\"], [0.2222222222222222, \"#7201a8\"], [0.3333333333333333, \"#9c179e\"], [0.4444444444444444, \"#bd3786\"], [0.5555555555555556, \"#d8576b\"], [0.6666666666666666, \"#ed7953\"], [0.7777777777777778, \"#fb9f3a\"], [0.8888888888888888, \"#fdca26\"], [1.0, \"#f0f921\"]], \"type\": \"histogram2dcontour\"}], \"mesh3d\": [{\"colorbar\": {\"outlinewidth\": 0, \"ticks\": \"\"}, \"type\": \"mesh3d\"}], \"parcoords\": [{\"line\": {\"colorbar\": {\"outlinewidth\": 0, \"ticks\": \"\"}}, \"type\": \"parcoords\"}], \"pie\": [{\"automargin\": true, \"type\": \"pie\"}], \"scatter\": [{\"marker\": {\"colorbar\": {\"outlinewidth\": 0, \"ticks\": \"\"}}, \"type\": \"scatter\"}], \"scatter3d\": [{\"line\": {\"colorbar\": {\"outlinewidth\": 0, \"ticks\": \"\"}}, \"marker\": {\"colorbar\": {\"outlinewidth\": 0, \"ticks\": \"\"}}, \"type\": \"scatter3d\"}], \"scattercarpet\": [{\"marker\": {\"colorbar\": {\"outlinewidth\": 0, \"ticks\": \"\"}}, \"type\": \"scattercarpet\"}], \"scattergeo\": [{\"marker\": {\"colorbar\": {\"outlinewidth\": 0, \"ticks\": \"\"}}, \"type\": \"scattergeo\"}], \"scattergl\": [{\"marker\": {\"colorbar\": {\"outlinewidth\": 0, \"ticks\": \"\"}}, \"type\": \"scattergl\"}], \"scattermapbox\": [{\"marker\": {\"colorbar\": {\"outlinewidth\": 0, \"ticks\": \"\"}}, \"type\": \"scattermapbox\"}], \"scatterpolar\": [{\"marker\": {\"colorbar\": {\"outlinewidth\": 0, \"ticks\": \"\"}}, \"type\": \"scatterpolar\"}], \"scatterpolargl\": [{\"marker\": {\"colorbar\": {\"outlinewidth\": 0, \"ticks\": \"\"}}, \"type\": \"scatterpolargl\"}], \"scatterternary\": [{\"marker\": {\"colorbar\": {\"outlinewidth\": 0, \"ticks\": \"\"}}, \"type\": \"scatterternary\"}], \"surface\": [{\"colorbar\": {\"outlinewidth\": 0, \"ticks\": \"\"}, \"colorscale\": [[0.0, \"#0d0887\"], [0.1111111111111111, \"#46039f\"], [0.2222222222222222, \"#7201a8\"], [0.3333333333333333, \"#9c179e\"], [0.4444444444444444, \"#bd3786\"], [0.5555555555555556, \"#d8576b\"], [0.6666666666666666, \"#ed7953\"], [0.7777777777777778, \"#fb9f3a\"], [0.8888888888888888, \"#fdca26\"], [1.0, \"#f0f921\"]], \"type\": \"surface\"}], \"table\": [{\"cells\": {\"fill\": {\"color\": \"#EBF0F8\"}, \"line\": {\"color\": \"white\"}}, \"header\": {\"fill\": {\"color\": \"#C8D4E3\"}, \"line\": {\"color\": \"white\"}}, \"type\": \"table\"}]}, \"layout\": {\"annotationdefaults\": {\"arrowcolor\": \"#2a3f5f\", \"arrowhead\": 0, \"arrowwidth\": 1}, \"coloraxis\": {\"colorbar\": {\"outlinewidth\": 0, \"ticks\": \"\"}}, \"colorscale\": {\"diverging\": [[0, \"#8e0152\"], [0.1, \"#c51b7d\"], [0.2, \"#de77ae\"], [0.3, \"#f1b6da\"], [0.4, \"#fde0ef\"], [0.5, \"#f7f7f7\"], [0.6, \"#e6f5d0\"], [0.7, \"#b8e186\"], [0.8, \"#7fbc41\"], [0.9, \"#4d9221\"], [1, \"#276419\"]], \"sequential\": [[0.0, \"#0d0887\"], [0.1111111111111111, \"#46039f\"], [0.2222222222222222, \"#7201a8\"], [0.3333333333333333, \"#9c179e\"], [0.4444444444444444, \"#bd3786\"], [0.5555555555555556, \"#d8576b\"], [0.6666666666666666, \"#ed7953\"], [0.7777777777777778, \"#fb9f3a\"], [0.8888888888888888, \"#fdca26\"], [1.0, \"#f0f921\"]], \"sequentialminus\": [[0.0, \"#0d0887\"], [0.1111111111111111, \"#46039f\"], [0.2222222222222222, \"#7201a8\"], [0.3333333333333333, \"#9c179e\"], [0.4444444444444444, \"#bd3786\"], [0.5555555555555556, \"#d8576b\"], [0.6666666666666666, \"#ed7953\"], [0.7777777777777778, \"#fb9f3a\"], [0.8888888888888888, \"#fdca26\"], [1.0, \"#f0f921\"]]}, \"colorway\": [\"#636efa\", \"#EF553B\", \"#00cc96\", \"#ab63fa\", \"#FFA15A\", \"#19d3f3\", \"#FF6692\", \"#B6E880\", \"#FF97FF\", \"#FECB52\"], \"font\": {\"color\": \"#2a3f5f\"}, \"geo\": {\"bgcolor\": \"white\", \"lakecolor\": \"white\", \"landcolor\": \"#E5ECF6\", \"showlakes\": true, \"showland\": true, \"subunitcolor\": \"white\"}, \"hoverlabel\": {\"align\": \"left\"}, \"hovermode\": \"closest\", \"mapbox\": {\"style\": \"light\"}, \"paper_bgcolor\": \"white\", \"plot_bgcolor\": \"#E5ECF6\", \"polar\": {\"angularaxis\": {\"gridcolor\": \"white\", \"linecolor\": \"white\", \"ticks\": \"\"}, \"bgcolor\": \"#E5ECF6\", \"radialaxis\": {\"gridcolor\": \"white\", \"linecolor\": \"white\", \"ticks\": \"\"}}, \"scene\": {\"xaxis\": {\"backgroundcolor\": \"#E5ECF6\", \"gridcolor\": \"white\", \"gridwidth\": 2, \"linecolor\": \"white\", \"showbackground\": true, \"ticks\": \"\", \"zerolinecolor\": \"white\"}, \"yaxis\": {\"backgroundcolor\": \"#E5ECF6\", \"gridcolor\": \"white\", \"gridwidth\": 2, \"linecolor\": \"white\", \"showbackground\": true, \"ticks\": \"\", \"zerolinecolor\": \"white\"}, \"zaxis\": {\"backgroundcolor\": \"#E5ECF6\", \"gridcolor\": \"white\", \"gridwidth\": 2, \"linecolor\": \"white\", \"showbackground\": true, \"ticks\": \"\", \"zerolinecolor\": \"white\"}}, \"shapedefaults\": {\"line\": {\"color\": \"#2a3f5f\"}}, \"ternary\": {\"aaxis\": {\"gridcolor\": \"white\", \"linecolor\": \"white\", \"ticks\": \"\"}, \"baxis\": {\"gridcolor\": \"white\", \"linecolor\": \"white\", \"ticks\": \"\"}, \"bgcolor\": \"#E5ECF6\", \"caxis\": {\"gridcolor\": \"white\", \"linecolor\": \"white\", \"ticks\": \"\"}}, \"title\": {\"x\": 0.05}, \"xaxis\": {\"automargin\": true, \"gridcolor\": \"white\", \"linecolor\": \"white\", \"ticks\": \"\", \"title\": {\"standoff\": 15}, \"zerolinecolor\": \"white\", \"zerolinewidth\": 2}, \"yaxis\": {\"automargin\": true, \"gridcolor\": \"white\", \"linecolor\": \"white\", \"ticks\": \"\", \"title\": {\"standoff\": 15}, \"zerolinecolor\": \"white\", \"zerolinewidth\": 2}}}, \"title\": {\"text\": \"Gantt Chart\"}, \"xaxis\": {\"rangeselector\": {\"buttons\": [{\"count\": 7, \"label\": \"1w\", \"step\": \"day\", \"stepmode\": \"backward\"}, {\"count\": 1, \"label\": \"1m\", \"step\": \"month\", \"stepmode\": \"backward\"}, {\"count\": 6, \"label\": \"6m\", \"step\": \"month\", \"stepmode\": \"backward\"}, {\"count\": 1, \"label\": \"YTD\", \"step\": \"year\", \"stepmode\": \"todate\"}, {\"count\": 1, \"label\": \"1y\", \"step\": \"year\", \"stepmode\": \"backward\"}, {\"step\": \"all\"}]}, \"showgrid\": false, \"type\": \"date\", \"zeroline\": false}, \"yaxis\": {\"autorange\": false, \"range\": [-1, 5], \"showgrid\": false, \"ticktext\": [\"ROOM_90_1\", \"ROOM_89_1\", \"ROOM_87_1\", \"ROOM_86_1\"], \"tickvals\": [0, 1, 2, 3], \"zeroline\": false}},                        {\"responsive\": true}                    ).then(function(){\n",
       "                            \n",
       "var gd = document.getElementById('e1f82fd3-b22f-410e-a964-fca4971c19b4');\n",
       "var x = new MutationObserver(function (mutations, observer) {{\n",
       "        var display = window.getComputedStyle(gd).display;\n",
       "        if (!display || display === 'none') {{\n",
       "            console.log([gd, 'removed!']);\n",
       "            Plotly.purge(gd);\n",
       "            observer.disconnect();\n",
       "        }}\n",
       "}});\n",
       "\n",
       "// Listen for the removal of the full notebook cells\n",
       "var notebookContainer = gd.closest('#notebook-container');\n",
       "if (notebookContainer) {{\n",
       "    x.observe(notebookContainer, {childList: true});\n",
       "}}\n",
       "\n",
       "// Listen for the clearing of the current output cell\n",
       "var outputEl = gd.closest('.output');\n",
       "if (outputEl) {{\n",
       "    x.observe(outputEl, {childList: true});\n",
       "}}\n",
       "\n",
       "                        })                };                });            </script>        </div>"
      ]
     },
     "metadata": {},
     "output_type": "display_data"
    }
   ],
   "source": [
    "df = []\n",
    "for row in resourcePlanning.itertuples():\n",
    "    if row.resourceId[:4] == 'ROOM':\n",
    "        df.append(dict(Task = row.resourceIdEntry, Start=row.fromDate, Finish=row.tillDate))\n",
    "\n",
    "        \n",
    "fig = ff.create_gantt(df, group_tasks=True)\n",
    "fig.show()"
   ]
  },
  {
   "cell_type": "code",
   "execution_count": 7,
   "metadata": {},
   "outputs": [
    {
     "data": {
      "text/plain": [
       "[{'Task': 'ROOM_86_1',\n",
       "  'Start': Timestamp('2019-05-07 00:00:00'),\n",
       "  'Finish': Timestamp('2019-05-07 02:12:00')},\n",
       " {'Task': 'ROOM_87_1',\n",
       "  'Start': Timestamp('2019-05-07 00:00:00'),\n",
       "  'Finish': Timestamp('2019-05-07 02:00:00')},\n",
       " {'Task': 'ROOM_89_1',\n",
       "  'Start': Timestamp('2019-05-07 00:00:00'),\n",
       "  'Finish': Timestamp('2019-05-07 01:57:00')},\n",
       " {'Task': 'ROOM_90_1',\n",
       "  'Start': Timestamp('2019-05-07 00:00:00'),\n",
       "  'Finish': Timestamp('2019-05-07 01:50:00')},\n",
       " {'Task': 'ROOM_90_1',\n",
       "  'Start': Timestamp('2019-05-07 01:50:00'),\n",
       "  'Finish': Timestamp('2019-05-07 03:40:00')},\n",
       " {'Task': 'ROOM_89_1',\n",
       "  'Start': Timestamp('2019-05-07 01:57:00'),\n",
       "  'Finish': Timestamp('2019-05-07 03:47:00')},\n",
       " {'Task': 'ROOM_87_1',\n",
       "  'Start': Timestamp('2019-05-07 02:00:00'),\n",
       "  'Finish': Timestamp('2019-05-07 03:38:00')},\n",
       " {'Task': 'ROOM_86_1',\n",
       "  'Start': Timestamp('2019-05-07 02:12:00'),\n",
       "  'Finish': Timestamp('2019-05-07 03:50:00')},\n",
       " {'Task': 'ROOM_87_1',\n",
       "  'Start': Timestamp('2019-05-07 03:38:00'),\n",
       "  'Finish': Timestamp('2019-05-07 05:20:00')},\n",
       " {'Task': 'ROOM_90_1',\n",
       "  'Start': Timestamp('2019-05-07 03:40:00'),\n",
       "  'Finish': Timestamp('2019-05-07 05:15:00')},\n",
       " {'Task': 'ROOM_89_1',\n",
       "  'Start': Timestamp('2019-05-07 03:47:00'),\n",
       "  'Finish': Timestamp('2019-05-07 05:21:00')},\n",
       " {'Task': 'ROOM_86_1',\n",
       "  'Start': Timestamp('2019-05-07 03:50:00'),\n",
       "  'Finish': Timestamp('2019-05-07 05:22:00')},\n",
       " {'Task': 'ROOM_90_1',\n",
       "  'Start': Timestamp('2019-05-07 05:15:00'),\n",
       "  'Finish': Timestamp('2019-05-07 06:50:00')},\n",
       " {'Task': 'ROOM_87_1',\n",
       "  'Start': Timestamp('2019-05-07 05:20:00'),\n",
       "  'Finish': Timestamp('2019-05-07 06:52:00')},\n",
       " {'Task': 'ROOM_89_1',\n",
       "  'Start': Timestamp('2019-05-07 05:21:00'),\n",
       "  'Finish': Timestamp('2019-05-07 06:51:00')},\n",
       " {'Task': 'ROOM_86_1',\n",
       "  'Start': Timestamp('2019-05-07 05:22:00'),\n",
       "  'Finish': Timestamp('2019-05-07 06:41:00')},\n",
       " {'Task': 'ROOM_86_1',\n",
       "  'Start': Timestamp('2019-05-07 06:41:00'),\n",
       "  'Finish': Timestamp('2019-05-07 08:31:00')},\n",
       " {'Task': 'ROOM_90_1',\n",
       "  'Start': Timestamp('2019-05-07 06:50:00'),\n",
       "  'Finish': Timestamp('2019-05-07 08:40:00')},\n",
       " {'Task': 'ROOM_89_1',\n",
       "  'Start': Timestamp('2019-05-07 06:51:00'),\n",
       "  'Finish': Timestamp('2019-05-07 08:41:00')},\n",
       " {'Task': 'ROOM_87_1',\n",
       "  'Start': Timestamp('2019-05-07 06:52:00'),\n",
       "  'Finish': Timestamp('2019-05-07 08:20:00')},\n",
       " {'Task': 'ROOM_87_1',\n",
       "  'Start': Timestamp('2019-05-07 08:20:00'),\n",
       "  'Finish': Timestamp('2019-05-07 09:50:00')},\n",
       " {'Task': 'ROOM_86_1',\n",
       "  'Start': Timestamp('2019-05-07 08:31:00'),\n",
       "  'Finish': Timestamp('2019-05-07 09:59:00')},\n",
       " {'Task': 'ROOM_90_1',\n",
       "  'Start': Timestamp('2019-05-07 08:40:00'),\n",
       "  'Finish': Timestamp('2019-05-07 09:54:00')},\n",
       " {'Task': 'ROOM_89_1',\n",
       "  'Start': Timestamp('2019-05-07 08:41:00'),\n",
       "  'Finish': Timestamp('2019-05-07 09:52:00')},\n",
       " {'Task': 'ROOM_87_1',\n",
       "  'Start': Timestamp('2019-05-07 09:50:00'),\n",
       "  'Finish': Timestamp('2019-05-07 11:22:00')},\n",
       " {'Task': 'ROOM_89_1',\n",
       "  'Start': Timestamp('2019-05-07 09:52:00'),\n",
       "  'Finish': Timestamp('2019-05-07 11:10:00')},\n",
       " {'Task': 'ROOM_90_1',\n",
       "  'Start': Timestamp('2019-05-07 09:54:00'),\n",
       "  'Finish': Timestamp('2019-05-07 11:05:00')},\n",
       " {'Task': 'ROOM_86_1',\n",
       "  'Start': Timestamp('2019-05-07 09:59:00'),\n",
       "  'Finish': Timestamp('2019-05-07 11:07:00')},\n",
       " {'Task': 'ROOM_90_1',\n",
       "  'Start': Timestamp('2019-05-07 11:05:00'),\n",
       "  'Finish': Timestamp('2019-05-07 12:23:00')},\n",
       " {'Task': 'ROOM_86_1',\n",
       "  'Start': Timestamp('2019-05-07 11:07:00'),\n",
       "  'Finish': Timestamp('2019-05-07 12:23:00')},\n",
       " {'Task': 'ROOM_89_1',\n",
       "  'Start': Timestamp('2019-05-07 11:10:00'),\n",
       "  'Finish': Timestamp('2019-05-07 12:15:00')},\n",
       " {'Task': 'ROOM_87_1',\n",
       "  'Start': Timestamp('2019-05-07 11:22:00'),\n",
       "  'Finish': Timestamp('2019-05-07 12:25:00')},\n",
       " {'Task': 'ROOM_89_1',\n",
       "  'Start': Timestamp('2019-05-07 12:15:00'),\n",
       "  'Finish': Timestamp('2019-05-07 14:05:00')},\n",
       " {'Task': 'ROOM_86_1',\n",
       "  'Start': Timestamp('2019-05-07 12:23:00'),\n",
       "  'Finish': Timestamp('2019-05-07 14:13:00')},\n",
       " {'Task': 'ROOM_90_1',\n",
       "  'Start': Timestamp('2019-05-07 12:23:00'),\n",
       "  'Finish': Timestamp('2019-05-07 13:24:00')},\n",
       " {'Task': 'ROOM_87_1',\n",
       "  'Start': Timestamp('2019-05-07 12:25:00'),\n",
       "  'Finish': Timestamp('2019-05-07 12:56:00')},\n",
       " {'Task': 'ROOM_87_1',\n",
       "  'Start': Timestamp('2019-05-07 13:43:00'),\n",
       "  'Finish': Timestamp('2019-05-07 15:03:00')},\n",
       " {'Task': 'ROOM_89_1',\n",
       "  'Start': Timestamp('2019-05-07 17:35:00'),\n",
       "  'Finish': Timestamp('2019-05-07 19:25:00')},\n",
       " {'Task': 'ROOM_89_1',\n",
       "  'Start': Timestamp('2019-05-07 19:25:00'),\n",
       "  'Finish': Timestamp('2019-05-07 21:06:00')},\n",
       " {'Task': 'ROOM_89_1',\n",
       "  'Start': Timestamp('2019-05-07 21:06:00'),\n",
       "  'Finish': Timestamp('2019-05-07 22:13:00')},\n",
       " {'Task': 'ROOM_89_1',\n",
       "  'Start': Timestamp('2019-05-07 22:55:00'),\n",
       "  'Finish': Timestamp('2019-05-07 23:29:00')}]"
      ]
     },
     "execution_count": 7,
     "metadata": {},
     "output_type": "execute_result"
    }
   ],
   "source": [
    "df"
   ]
  },
  {
   "cell_type": "code",
   "execution_count": null,
   "metadata": {},
   "outputs": [],
   "source": []
  },
  {
   "cell_type": "code",
   "execution_count": null,
   "metadata": {},
   "outputs": [],
   "source": []
  }
 ],
 "metadata": {
  "kernelspec": {
   "display_name": "Python 3",
   "language": "python",
   "name": "python3"
  },
  "language_info": {
   "codemirror_mode": {
    "name": "ipython",
    "version": 3
   },
   "file_extension": ".py",
   "mimetype": "text/x-python",
   "name": "python",
   "nbconvert_exporter": "python",
   "pygments_lexer": "ipython3",
   "version": "3.7.4"
  }
 },
 "nbformat": 4,
 "nbformat_minor": 4
}
